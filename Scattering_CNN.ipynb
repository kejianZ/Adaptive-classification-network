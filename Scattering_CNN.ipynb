{
 "cells": [
  {
   "cell_type": "code",
   "execution_count": 1,
   "id": "5017960b",
   "metadata": {},
   "outputs": [],
   "source": [
    "import torch\n",
    "import torch.nn as nn\n",
    "import argparse\n",
    "import os\n",
    "from torchsummary import summary\n",
    "from torchvision import datasets, transforms\n",
    "from torch.utils.data import Dataset\n",
    "from kymatio.torch import Scattering2D\n",
    "from tqdm import tqdm\n",
    "import torch.nn.functional as F\n",
    "from torch.optim.lr_scheduler import *\n",
    "import warnings\n",
    "import scipy.stats as stats\n",
    "from sklearn.mixture import GaussianMixture\n",
    "import numpy as np\n",
    "device = torch.device(\"cuda\" if torch.cuda.is_available() else \"cpu\")\n",
    "device\n",
    "from matplotlib import pyplot as plt\n",
    "import seaborn as sns;\n",
    "from sklearn.decomposition import PCA"
   ]
  },
  {
   "cell_type": "markdown",
   "id": "9bac4dd4",
   "metadata": {},
   "source": [
    "In this document, we experiment to use CNN, more specifically scattering CNN to perform unsupervised learning to predict unseen classes labels. The dataset we use is cifar."
   ]
  },
  {
   "cell_type": "code",
   "execution_count": 2,
   "id": "11f3b501",
   "metadata": {},
   "outputs": [],
   "source": [
    "NUM_CLASS = 10\n",
    "NUM_UNTARGET_CLASS = 4\n",
    "EPOCHS = 40\n",
    "REPLACE_LST = [6,7,8,9]"
   ]
  },
  {
   "cell_type": "code",
   "execution_count": 3,
   "id": "ca9341da",
   "metadata": {},
   "outputs": [],
   "source": [
    "class UnLabel_Dataset(Dataset):\n",
    "    def __init__(self, imgs, ground_truth, transform):\n",
    "        self.imgs = imgs\n",
    "        self.ground_truth = ground_truth\n",
    "        self.transform = transform\n",
    "    def __len__(self):\n",
    "        return len(self.ground_truth)\n",
    "\n",
    "    def __getitem__(self, idx):\n",
    "        img = self.imgs[idx]\n",
    "        tar = self.ground_truth[idx]\n",
    "        if self.transform:\n",
    "            img = self.transform(img)\n",
    "        #print(img.shape,tar.shape)\n",
    "        return img[None:], tar"
   ]
  },
  {
   "cell_type": "code",
   "execution_count": 4,
   "id": "558f2c09",
   "metadata": {},
   "outputs": [],
   "source": [
    "class get_img():\n",
    "    def __init__(self, classes=[]):\n",
    "        self.classes = classes\n",
    "    def __call__(self, dataset):\n",
    "        tensor_targets = torch.tensor(dataset.targets)\n",
    "        semasks = torch.any(torch.stack( [torch.eq(tensor_targets, aelem).logical_or_(torch.eq(tensor_targets, aelem)) for aelem in self.classes], dim=0), dim = 0)\n",
    "        imgs = dataset.data[semasks]\n",
    "        tars = torch.tensor(dataset.targets)[semasks.tolist()].tolist()\n",
    "        return imgs, tars"
   ]
  },
  {
   "cell_type": "markdown",
   "id": "3eb1a587",
   "metadata": {},
   "source": [
    "Dataset Argumentation is applied to the images for a better training performance and more robust model."
   ]
  },
  {
   "cell_type": "code",
   "execution_count": 5,
   "id": "aead24f5",
   "metadata": {},
   "outputs": [
    {
     "name": "stdout",
     "output_type": "stream",
     "text": [
      "Files already downloaded and verified\n"
     ]
    }
   ],
   "source": [
    "normalize = transforms.Normalize(mean=[0.485, 0.456, 0.406],\n",
    "                                         std=[0.229, 0.224, 0.225])\n",
    "\n",
    "train_transforms = [transforms.RandomHorizontalFlip(),\n",
    "                    transforms.RandomCrop(32, 4),\n",
    "                    transforms.ToTensor(),\n",
    "                    normalize,\n",
    "                   ]\n",
    "train_set = datasets.CIFAR10(root=\"./data\", train=True,\n",
    "                                     transform=transforms.Compose(train_transforms),\n",
    "                                     download=True)\n",
    "test_set = datasets.CIFAR10(root=\"./data\", train=False,\n",
    "                                    transform=transforms.Compose(\n",
    "                                        [transforms.ToTensor(), normalize]\n",
    "                                    ))\n",
    "\n",
    "train_loader = torch.utils.data.DataLoader(train_set, \n",
    "                                           batch_size=512,\n",
    "                                           shuffle=True,\n",
    "                                           num_workers=6, \n",
    "                                           drop_last=False)\n",
    "test_loader = torch.utils.data.DataLoader(test_set, \n",
    "                                           batch_size=1024,\n",
    "                                           shuffle=False,\n",
    "                                           num_workers=6, \n",
    "                                           drop_last=False)"
   ]
  },
  {
   "cell_type": "code",
   "execution_count": 6,
   "id": "756cc17d",
   "metadata": {},
   "outputs": [],
   "source": [
    "get_imgs = get_img(REPLACE_LST)\n",
    "unlabel_training_imgs, ground_truth_training = get_imgs(train_set)\n",
    "unlabel_training_dataset = UnLabel_Dataset(unlabel_training_imgs,\n",
    "                                           ground_truth_training,\n",
    "                                           transform=transforms.Compose([transforms.ToTensor(), normalize])\n",
    "                                          )\n",
    "unlabel_training_dataloader = torch.utils.data.DataLoader(unlabel_training_dataset,\n",
    "                                                          batch_size=512,\n",
    "                                                          shuffle=False,\n",
    "                                                          num_workers=6,\n",
    "                                                          drop_last=False)\n",
    "unlabel_test_imgs, ground_truth_test = get_imgs(test_set)\n",
    "unlabel_test_dataset = UnLabel_Dataset(unlabel_test_imgs,\n",
    "                                       ground_truth_test,\n",
    "                                       transform=transforms.Compose([transforms.ToTensor(), normalize])\n",
    "                                      )\n",
    "unlabel_test_dataloader = torch.utils.data.DataLoader(unlabel_test_dataset,\n",
    "                                                          batch_size=512,\n",
    "                                                          shuffle=False,\n",
    "                                                          num_workers=6,\n",
    "                                                          drop_last=False)"
   ]
  },
  {
   "cell_type": "code",
   "execution_count": 7,
   "id": "ac6298d7",
   "metadata": {},
   "outputs": [],
   "source": [
    "class replace_label():\n",
    "    def __init__(self, labels=[], tar_label=7):\n",
    "        super(replace_label, self).__init__()\n",
    "        if len(labels)!=NUM_UNTARGET_CLASS:\n",
    "            warnings.warn('Length of labels neq to NUM_UNTARGET_CLASS!')\n",
    "        self.labels = labels\n",
    "        self.tar_label = tar_label\n",
    "    def __call__(self, labels):\n",
    "        labels_cpy = torch.clone(labels)\n",
    "        semasks = torch.any(torch.stack( [torch.eq(labels, aelem).logical_or_(torch.eq(labels, aelem)) for aelem in self.labels], dim=0), dim = 0)\n",
    "        labels_cpy[semasks] = self.tar_label\n",
    "        return labels_cpy"
   ]
  },
  {
   "cell_type": "code",
   "execution_count": 8,
   "id": "a61878d2",
   "metadata": {},
   "outputs": [],
   "source": [
    "class ScatterCNN(nn.Module):\n",
    "    def __init__(self, classes=10, **kwargs):\n",
    "        super(ScatterCNN, self).__init__()\n",
    "        self.norm0 = nn.BatchNorm2d(3*81)\n",
    "        self.Conv0 = nn.Conv2d(3*81, 256, kernel_size=1, stride=1)\n",
    "        self.norm1 = nn.BatchNorm2d(256)\n",
    "        self.prelu1 = nn.PReLU()\n",
    "        self.Conv1 = nn.Conv2d(256, 128, kernel_size=3, stride=1)\n",
    "        self.norm2 = nn.BatchNorm2d(128)\n",
    "        self.relu = nn.ReLU()\n",
    "        self.maxpool = nn.MaxPool2d(2, stride=2)\n",
    "        self.Conv2 = nn.Conv2d(128, 64, kernel_size=3, stride=1)\n",
    "        self.norm3 = nn.BatchNorm2d(64)\n",
    "        self.prelu2 = nn.PReLU()\n",
    "        self.fc = nn.Linear(64*1, classes)\n",
    "    def feature(self, x):\n",
    "        x = x.view(-1, 3 * 81, 8, 8)\n",
    "        x = self.norm0(x)\n",
    "        x_ = self.Conv0(x)\n",
    "        x = self.norm1(x_)\n",
    "        x = self.prelu1(x)\n",
    "        x = self.Conv1(x)\n",
    "        x = self.norm2(x)\n",
    "        x = self.relu(x)\n",
    "        x = self.maxpool(x)\n",
    "        x = self.Conv2(x)\n",
    "        x = self.norm3(x)\n",
    "        x = self.prelu2(x)\n",
    "        x = x.reshape(x.size(0), -1)\n",
    "        return x\n",
    "    \n",
    "    def forward(self, x):\n",
    "        x = self.feature(x)\n",
    "        x = self.fc(x)\n",
    "        return x"
   ]
  },
  {
   "cell_type": "code",
   "execution_count": 9,
   "id": "79e7a7d6",
   "metadata": {},
   "outputs": [],
   "source": [
    "model = ScatterCNN(classes=NUM_CLASS-NUM_UNTARGET_CLASS+1)\n",
    "#summary(model.to(device), input_size=(3*81,8,8))"
   ]
  },
  {
   "cell_type": "code",
   "execution_count": 10,
   "id": "e3dac2d2",
   "metadata": {},
   "outputs": [],
   "source": [
    "optimizer = torch.optim.SGD(model.parameters(), lr=0.1,\n",
    "                                    momentum=0.9,\n",
    "                                    nesterov=False)\n",
    "\n",
    "scheduler = MultiStepLR(optimizer, milestones=[10,20], gamma=0.1)"
   ]
  },
  {
   "cell_type": "code",
   "execution_count": 11,
   "id": "cf9b75a2",
   "metadata": {},
   "outputs": [],
   "source": [
    "replace = replace_label(REPLACE_LST, NUM_CLASS-NUM_UNTARGET_CLASS)\n",
    "Scattering2D = Scattering2D(J=2, shape=(32, 32)).cuda()\n",
    "def train(model, train_loader, optimizer):\n",
    "    model = model.to(device)\n",
    "    model.train()\n",
    "    num_examples = 0\n",
    "    correct = 0\n",
    "    train_loss = 0\n",
    "    for data, target in tqdm(train_loader):\n",
    "        target = replace(target)\n",
    "        data, target = data.to(device), target.to(device)\n",
    "        #print(target.shape, target)\n",
    "        output = model(Scattering2D(data))\n",
    "        #print(data.shape,output.shape, target.shape)\n",
    "        loss = F.cross_entropy(output, target)\n",
    "        loss.backward()\n",
    "        optimizer.step()\n",
    "        optimizer.zero_grad()\n",
    "        pred = output.max(1, keepdim=True)[1]\n",
    "        correct += pred.eq(target.view_as(pred)).sum().item()\n",
    "        train_loss += F.cross_entropy(output, target, reduction='sum').item()\n",
    "        num_examples += len(data)\n",
    "\n",
    "    train_loss /= num_examples\n",
    "    train_acc = 100. * correct / num_examples\n",
    "    print(f'Train set: Average loss: {train_loss:.4f}, '\n",
    "          f'Accuracy: {correct}/{num_examples} ({train_acc:.2f}%)')\n",
    "    return train_loss, train_acc"
   ]
  },
  {
   "cell_type": "code",
   "execution_count": 12,
   "id": "1863e44b",
   "metadata": {},
   "outputs": [],
   "source": [
    "def test(model, test_loader):\n",
    "    device = next(model.parameters()).device\n",
    "    \n",
    "    model.eval()\n",
    "    num_examples = 0\n",
    "    test_loss = 0\n",
    "    correct = 0\n",
    "\n",
    "    with torch.no_grad():\n",
    "        for data, target in tqdm(test_loader):\n",
    "            target = replace(target)\n",
    "            data, target = data.to(device), target.to(device)\n",
    "            output = model(Scattering2D(data))\n",
    "            test_loss += F.cross_entropy(output, target, reduction='sum').item()\n",
    "            pred = output.max(1, keepdim=True)[1]\n",
    "            correct += pred.eq(target.view_as(pred)).sum().item()\n",
    "            num_examples += len(data)\n",
    "\n",
    "    test_loss /= num_examples\n",
    "    test_acc = 100. * correct / num_examples\n",
    "\n",
    "    print(f'Test set: Average loss: {test_loss:.4f}, '\n",
    "          f'Accuracy: {correct}/{num_examples} ({test_acc:.2f}%)')\n",
    "\n",
    "    return test_loss, test_acc"
   ]
  },
  {
   "cell_type": "code",
   "execution_count": 13,
   "id": "15998a39",
   "metadata": {
    "scrolled": true
   },
   "outputs": [
    {
     "name": "stdout",
     "output_type": "stream",
     "text": [
      "\n",
      "Epoch: 0\n"
     ]
    },
    {
     "name": "stderr",
     "output_type": "stream",
     "text": [
      "  0%|          | 0/98 [00:00<?, ?it/s]/home/deponce/.local/lib/python3.8/site-packages/torch/nn/functional.py:718: UserWarning: Named tensors and all their associated APIs are an experimental feature and subject to change. Please do not use them for anything important until they are released as stable. (Triggered internally at  /pytorch/c10/core/TensorImpl.h:1156.)\n",
      "  return torch.max_pool2d(input, kernel_size, stride, padding, dilation, ceil_mode)\n",
      "100%|██████████| 98/98 [00:18<00:00,  5.37it/s]\n"
     ]
    },
    {
     "name": "stdout",
     "output_type": "stream",
     "text": [
      "Train set: Average loss: 1.0978, Accuracy: 29144/50000 (58.29%)\n"
     ]
    },
    {
     "name": "stderr",
     "output_type": "stream",
     "text": [
      "100%|██████████| 10/10 [00:03<00:00,  2.78it/s]\n"
     ]
    },
    {
     "name": "stdout",
     "output_type": "stream",
     "text": [
      "Test set: Average loss: 0.8932, Accuracy: 6776/10000 (67.76%)\n",
      "\n",
      "Epoch: 1\n"
     ]
    },
    {
     "name": "stderr",
     "output_type": "stream",
     "text": [
      "100%|██████████| 98/98 [00:18<00:00,  5.37it/s]\n"
     ]
    },
    {
     "name": "stdout",
     "output_type": "stream",
     "text": [
      "Train set: Average loss: 0.8363, Accuracy: 34576/50000 (69.15%)\n"
     ]
    },
    {
     "name": "stderr",
     "output_type": "stream",
     "text": [
      "100%|██████████| 10/10 [00:03<00:00,  2.62it/s]\n"
     ]
    },
    {
     "name": "stdout",
     "output_type": "stream",
     "text": [
      "Test set: Average loss: 0.7453, Accuracy: 7313/10000 (73.13%)\n",
      "\n",
      "Epoch: 2\n"
     ]
    },
    {
     "name": "stderr",
     "output_type": "stream",
     "text": [
      "100%|██████████| 98/98 [00:18<00:00,  5.35it/s]\n"
     ]
    },
    {
     "name": "stdout",
     "output_type": "stream",
     "text": [
      "Train set: Average loss: 0.7343, Accuracy: 36573/50000 (73.15%)\n"
     ]
    },
    {
     "name": "stderr",
     "output_type": "stream",
     "text": [
      "100%|██████████| 10/10 [00:03<00:00,  2.64it/s]\n"
     ]
    },
    {
     "name": "stdout",
     "output_type": "stream",
     "text": [
      "Test set: Average loss: 0.7097, Accuracy: 7426/10000 (74.26%)\n",
      "\n",
      "Epoch: 3\n"
     ]
    },
    {
     "name": "stderr",
     "output_type": "stream",
     "text": [
      "100%|██████████| 98/98 [00:18<00:00,  5.33it/s]\n"
     ]
    },
    {
     "name": "stdout",
     "output_type": "stream",
     "text": [
      "Train set: Average loss: 0.6712, Accuracy: 37690/50000 (75.38%)\n"
     ]
    },
    {
     "name": "stderr",
     "output_type": "stream",
     "text": [
      "100%|██████████| 10/10 [00:03<00:00,  2.63it/s]\n"
     ]
    },
    {
     "name": "stdout",
     "output_type": "stream",
     "text": [
      "Test set: Average loss: 0.6796, Accuracy: 7563/10000 (75.63%)\n",
      "\n",
      "Epoch: 4\n"
     ]
    },
    {
     "name": "stderr",
     "output_type": "stream",
     "text": [
      "100%|██████████| 98/98 [00:18<00:00,  5.33it/s]\n"
     ]
    },
    {
     "name": "stdout",
     "output_type": "stream",
     "text": [
      "Train set: Average loss: 0.6207, Accuracy: 38771/50000 (77.54%)\n"
     ]
    },
    {
     "name": "stderr",
     "output_type": "stream",
     "text": [
      "100%|██████████| 10/10 [00:03<00:00,  2.64it/s]\n"
     ]
    },
    {
     "name": "stdout",
     "output_type": "stream",
     "text": [
      "Test set: Average loss: 0.6581, Accuracy: 7595/10000 (75.95%)\n",
      "\n",
      "Epoch: 5\n"
     ]
    },
    {
     "name": "stderr",
     "output_type": "stream",
     "text": [
      "100%|██████████| 98/98 [00:18<00:00,  5.33it/s]\n"
     ]
    },
    {
     "name": "stdout",
     "output_type": "stream",
     "text": [
      "Train set: Average loss: 0.5945, Accuracy: 39121/50000 (78.24%)\n"
     ]
    },
    {
     "name": "stderr",
     "output_type": "stream",
     "text": [
      "100%|██████████| 10/10 [00:03<00:00,  2.64it/s]\n"
     ]
    },
    {
     "name": "stdout",
     "output_type": "stream",
     "text": [
      "Test set: Average loss: 0.6416, Accuracy: 7762/10000 (77.62%)\n",
      "\n",
      "Epoch: 6\n"
     ]
    },
    {
     "name": "stderr",
     "output_type": "stream",
     "text": [
      "100%|██████████| 98/98 [00:18<00:00,  5.35it/s]\n"
     ]
    },
    {
     "name": "stdout",
     "output_type": "stream",
     "text": [
      "Train set: Average loss: 0.5647, Accuracy: 39736/50000 (79.47%)\n"
     ]
    },
    {
     "name": "stderr",
     "output_type": "stream",
     "text": [
      "100%|██████████| 10/10 [00:03<00:00,  2.65it/s]\n"
     ]
    },
    {
     "name": "stdout",
     "output_type": "stream",
     "text": [
      "Test set: Average loss: 0.6504, Accuracy: 7663/10000 (76.63%)\n",
      "\n",
      "Epoch: 7\n"
     ]
    },
    {
     "name": "stderr",
     "output_type": "stream",
     "text": [
      "100%|██████████| 98/98 [00:18<00:00,  5.34it/s]\n"
     ]
    },
    {
     "name": "stdout",
     "output_type": "stream",
     "text": [
      "Train set: Average loss: 0.5419, Accuracy: 40200/50000 (80.40%)\n"
     ]
    },
    {
     "name": "stderr",
     "output_type": "stream",
     "text": [
      "100%|██████████| 10/10 [00:03<00:00,  2.66it/s]\n"
     ]
    },
    {
     "name": "stdout",
     "output_type": "stream",
     "text": [
      "Test set: Average loss: 0.5832, Accuracy: 7903/10000 (79.03%)\n",
      "\n",
      "Epoch: 8\n"
     ]
    },
    {
     "name": "stderr",
     "output_type": "stream",
     "text": [
      "100%|██████████| 98/98 [00:18<00:00,  5.34it/s]\n"
     ]
    },
    {
     "name": "stdout",
     "output_type": "stream",
     "text": [
      "Train set: Average loss: 0.5148, Accuracy: 40722/50000 (81.44%)\n"
     ]
    },
    {
     "name": "stderr",
     "output_type": "stream",
     "text": [
      "100%|██████████| 10/10 [00:03<00:00,  2.69it/s]\n"
     ]
    },
    {
     "name": "stdout",
     "output_type": "stream",
     "text": [
      "Test set: Average loss: 0.6240, Accuracy: 7798/10000 (77.98%)\n",
      "\n",
      "Epoch: 9\n"
     ]
    },
    {
     "name": "stderr",
     "output_type": "stream",
     "text": [
      "100%|██████████| 98/98 [00:18<00:00,  5.35it/s]\n"
     ]
    },
    {
     "name": "stdout",
     "output_type": "stream",
     "text": [
      "Train set: Average loss: 0.4918, Accuracy: 41205/50000 (82.41%)\n"
     ]
    },
    {
     "name": "stderr",
     "output_type": "stream",
     "text": [
      "100%|██████████| 10/10 [00:03<00:00,  2.64it/s]\n"
     ]
    },
    {
     "name": "stdout",
     "output_type": "stream",
     "text": [
      "Test set: Average loss: 0.5544, Accuracy: 8038/10000 (80.38%)\n",
      "\n",
      "Epoch: 10\n"
     ]
    },
    {
     "name": "stderr",
     "output_type": "stream",
     "text": [
      "100%|██████████| 98/98 [00:18<00:00,  5.33it/s]\n"
     ]
    },
    {
     "name": "stdout",
     "output_type": "stream",
     "text": [
      "Train set: Average loss: 0.4272, Accuracy: 42377/50000 (84.75%)\n"
     ]
    },
    {
     "name": "stderr",
     "output_type": "stream",
     "text": [
      "100%|██████████| 10/10 [00:03<00:00,  2.59it/s]\n"
     ]
    },
    {
     "name": "stdout",
     "output_type": "stream",
     "text": [
      "Test set: Average loss: 0.4795, Accuracy: 8292/10000 (82.92%)\n",
      "\n",
      "Epoch: 11\n"
     ]
    },
    {
     "name": "stderr",
     "output_type": "stream",
     "text": [
      "100%|██████████| 98/98 [00:18<00:00,  5.32it/s]\n"
     ]
    },
    {
     "name": "stdout",
     "output_type": "stream",
     "text": [
      "Train set: Average loss: 0.4016, Accuracy: 42887/50000 (85.77%)\n"
     ]
    },
    {
     "name": "stderr",
     "output_type": "stream",
     "text": [
      "100%|██████████| 10/10 [00:03<00:00,  2.63it/s]\n"
     ]
    },
    {
     "name": "stdout",
     "output_type": "stream",
     "text": [
      "Test set: Average loss: 0.4793, Accuracy: 8324/10000 (83.24%)\n",
      "\n",
      "Epoch: 12\n"
     ]
    },
    {
     "name": "stderr",
     "output_type": "stream",
     "text": [
      "100%|██████████| 98/98 [00:18<00:00,  5.34it/s]\n"
     ]
    },
    {
     "name": "stdout",
     "output_type": "stream",
     "text": [
      "Train set: Average loss: 0.3931, Accuracy: 43050/50000 (86.10%)\n"
     ]
    },
    {
     "name": "stderr",
     "output_type": "stream",
     "text": [
      "100%|██████████| 10/10 [00:03<00:00,  2.64it/s]\n"
     ]
    },
    {
     "name": "stdout",
     "output_type": "stream",
     "text": [
      "Test set: Average loss: 0.4736, Accuracy: 8313/10000 (83.13%)\n",
      "\n",
      "Epoch: 13\n"
     ]
    },
    {
     "name": "stderr",
     "output_type": "stream",
     "text": [
      "100%|██████████| 98/98 [00:18<00:00,  5.33it/s]\n"
     ]
    },
    {
     "name": "stdout",
     "output_type": "stream",
     "text": [
      "Train set: Average loss: 0.3830, Accuracy: 43215/50000 (86.43%)\n"
     ]
    },
    {
     "name": "stderr",
     "output_type": "stream",
     "text": [
      "100%|██████████| 10/10 [00:03<00:00,  2.63it/s]\n"
     ]
    },
    {
     "name": "stdout",
     "output_type": "stream",
     "text": [
      "Test set: Average loss: 0.4675, Accuracy: 8358/10000 (83.58%)\n",
      "\n",
      "Epoch: 14\n"
     ]
    },
    {
     "name": "stderr",
     "output_type": "stream",
     "text": [
      "100%|██████████| 98/98 [00:18<00:00,  5.34it/s]\n"
     ]
    },
    {
     "name": "stdout",
     "output_type": "stream",
     "text": [
      "Train set: Average loss: 0.3768, Accuracy: 43246/50000 (86.49%)\n"
     ]
    },
    {
     "name": "stderr",
     "output_type": "stream",
     "text": [
      "100%|██████████| 10/10 [00:03<00:00,  2.67it/s]\n"
     ]
    },
    {
     "name": "stdout",
     "output_type": "stream",
     "text": [
      "Test set: Average loss: 0.4684, Accuracy: 8358/10000 (83.58%)\n",
      "\n",
      "Epoch: 15\n"
     ]
    },
    {
     "name": "stderr",
     "output_type": "stream",
     "text": [
      "100%|██████████| 98/98 [00:18<00:00,  5.33it/s]\n"
     ]
    },
    {
     "name": "stdout",
     "output_type": "stream",
     "text": [
      "Train set: Average loss: 0.3732, Accuracy: 43354/50000 (86.71%)\n"
     ]
    },
    {
     "name": "stderr",
     "output_type": "stream",
     "text": [
      "100%|██████████| 10/10 [00:03<00:00,  2.60it/s]\n"
     ]
    },
    {
     "name": "stdout",
     "output_type": "stream",
     "text": [
      "Test set: Average loss: 0.4694, Accuracy: 8332/10000 (83.32%)\n",
      "\n",
      "Epoch: 16\n"
     ]
    },
    {
     "name": "stderr",
     "output_type": "stream",
     "text": [
      "100%|██████████| 98/98 [00:18<00:00,  5.33it/s]\n"
     ]
    },
    {
     "name": "stdout",
     "output_type": "stream",
     "text": [
      "Train set: Average loss: 0.3671, Accuracy: 43451/50000 (86.90%)\n"
     ]
    },
    {
     "name": "stderr",
     "output_type": "stream",
     "text": [
      "100%|██████████| 10/10 [00:03<00:00,  2.64it/s]\n"
     ]
    },
    {
     "name": "stdout",
     "output_type": "stream",
     "text": [
      "Test set: Average loss: 0.4666, Accuracy: 8377/10000 (83.77%)\n",
      "\n",
      "Epoch: 17\n"
     ]
    },
    {
     "name": "stderr",
     "output_type": "stream",
     "text": [
      "100%|██████████| 98/98 [00:18<00:00,  5.32it/s]\n"
     ]
    },
    {
     "name": "stdout",
     "output_type": "stream",
     "text": [
      "Train set: Average loss: 0.3595, Accuracy: 43648/50000 (87.30%)\n"
     ]
    },
    {
     "name": "stderr",
     "output_type": "stream",
     "text": [
      "100%|██████████| 10/10 [00:03<00:00,  2.57it/s]\n"
     ]
    },
    {
     "name": "stdout",
     "output_type": "stream",
     "text": [
      "Test set: Average loss: 0.4684, Accuracy: 8362/10000 (83.62%)\n",
      "\n",
      "Epoch: 18\n"
     ]
    },
    {
     "name": "stderr",
     "output_type": "stream",
     "text": [
      "100%|██████████| 98/98 [00:18<00:00,  5.33it/s]\n"
     ]
    },
    {
     "name": "stdout",
     "output_type": "stream",
     "text": [
      "Train set: Average loss: 0.3530, Accuracy: 43645/50000 (87.29%)\n"
     ]
    },
    {
     "name": "stderr",
     "output_type": "stream",
     "text": [
      "100%|██████████| 10/10 [00:03<00:00,  2.66it/s]\n"
     ]
    },
    {
     "name": "stdout",
     "output_type": "stream",
     "text": [
      "Test set: Average loss: 0.4699, Accuracy: 8344/10000 (83.44%)\n",
      "\n",
      "Epoch: 19\n"
     ]
    },
    {
     "name": "stderr",
     "output_type": "stream",
     "text": [
      "100%|██████████| 98/98 [00:18<00:00,  5.34it/s]\n"
     ]
    },
    {
     "name": "stdout",
     "output_type": "stream",
     "text": [
      "Train set: Average loss: 0.3502, Accuracy: 43781/50000 (87.56%)\n"
     ]
    },
    {
     "name": "stderr",
     "output_type": "stream",
     "text": [
      "100%|██████████| 10/10 [00:03<00:00,  2.62it/s]\n"
     ]
    },
    {
     "name": "stdout",
     "output_type": "stream",
     "text": [
      "Test set: Average loss: 0.4679, Accuracy: 8356/10000 (83.56%)\n",
      "\n",
      "Epoch: 20\n"
     ]
    },
    {
     "name": "stderr",
     "output_type": "stream",
     "text": [
      "100%|██████████| 98/98 [00:18<00:00,  5.29it/s]\n"
     ]
    },
    {
     "name": "stdout",
     "output_type": "stream",
     "text": [
      "Train set: Average loss: 0.3451, Accuracy: 43774/50000 (87.55%)\n"
     ]
    },
    {
     "name": "stderr",
     "output_type": "stream",
     "text": [
      "100%|██████████| 10/10 [00:03<00:00,  2.52it/s]\n"
     ]
    },
    {
     "name": "stdout",
     "output_type": "stream",
     "text": [
      "Test set: Average loss: 0.4643, Accuracy: 8377/10000 (83.77%)\n",
      "\n",
      "Epoch: 21\n"
     ]
    },
    {
     "name": "stderr",
     "output_type": "stream",
     "text": [
      "100%|██████████| 98/98 [00:18<00:00,  5.32it/s]\n"
     ]
    },
    {
     "name": "stdout",
     "output_type": "stream",
     "text": [
      "Train set: Average loss: 0.3417, Accuracy: 43921/50000 (87.84%)\n"
     ]
    },
    {
     "name": "stderr",
     "output_type": "stream",
     "text": [
      "100%|██████████| 10/10 [00:03<00:00,  2.61it/s]\n"
     ]
    },
    {
     "name": "stdout",
     "output_type": "stream",
     "text": [
      "Test set: Average loss: 0.4630, Accuracy: 8383/10000 (83.83%)\n",
      "\n",
      "Epoch: 22\n"
     ]
    },
    {
     "name": "stderr",
     "output_type": "stream",
     "text": [
      "100%|██████████| 98/98 [00:18<00:00,  5.32it/s]\n"
     ]
    },
    {
     "name": "stdout",
     "output_type": "stream",
     "text": [
      "Train set: Average loss: 0.3364, Accuracy: 44024/50000 (88.05%)\n"
     ]
    },
    {
     "name": "stderr",
     "output_type": "stream",
     "text": [
      "100%|██████████| 10/10 [00:03<00:00,  2.58it/s]\n"
     ]
    },
    {
     "name": "stdout",
     "output_type": "stream",
     "text": [
      "Test set: Average loss: 0.4624, Accuracy: 8393/10000 (83.93%)\n",
      "\n",
      "Epoch: 23\n"
     ]
    },
    {
     "name": "stderr",
     "output_type": "stream",
     "text": [
      "100%|██████████| 98/98 [00:18<00:00,  5.32it/s]\n"
     ]
    },
    {
     "name": "stdout",
     "output_type": "stream",
     "text": [
      "Train set: Average loss: 0.3357, Accuracy: 44023/50000 (88.05%)\n"
     ]
    },
    {
     "name": "stderr",
     "output_type": "stream",
     "text": [
      "100%|██████████| 10/10 [00:03<00:00,  2.64it/s]\n"
     ]
    },
    {
     "name": "stdout",
     "output_type": "stream",
     "text": [
      "Test set: Average loss: 0.4626, Accuracy: 8392/10000 (83.92%)\n",
      "\n",
      "Epoch: 24\n"
     ]
    },
    {
     "name": "stderr",
     "output_type": "stream",
     "text": [
      "100%|██████████| 98/98 [00:18<00:00,  5.31it/s]\n"
     ]
    },
    {
     "name": "stdout",
     "output_type": "stream",
     "text": [
      "Train set: Average loss: 0.3378, Accuracy: 44034/50000 (88.07%)\n"
     ]
    },
    {
     "name": "stderr",
     "output_type": "stream",
     "text": [
      "100%|██████████| 10/10 [00:03<00:00,  2.60it/s]\n"
     ]
    },
    {
     "name": "stdout",
     "output_type": "stream",
     "text": [
      "Test set: Average loss: 0.4633, Accuracy: 8384/10000 (83.84%)\n",
      "\n",
      "Epoch: 25\n"
     ]
    },
    {
     "name": "stderr",
     "output_type": "stream",
     "text": [
      "100%|██████████| 98/98 [00:18<00:00,  5.33it/s]\n"
     ]
    },
    {
     "name": "stdout",
     "output_type": "stream",
     "text": [
      "Train set: Average loss: 0.3363, Accuracy: 44059/50000 (88.12%)\n"
     ]
    },
    {
     "name": "stderr",
     "output_type": "stream",
     "text": [
      "100%|██████████| 10/10 [00:03<00:00,  2.60it/s]\n"
     ]
    },
    {
     "name": "stdout",
     "output_type": "stream",
     "text": [
      "Test set: Average loss: 0.4636, Accuracy: 8389/10000 (83.89%)\n",
      "\n",
      "Epoch: 26\n"
     ]
    },
    {
     "name": "stderr",
     "output_type": "stream",
     "text": [
      "100%|██████████| 98/98 [00:18<00:00,  5.34it/s]\n"
     ]
    },
    {
     "name": "stdout",
     "output_type": "stream",
     "text": [
      "Train set: Average loss: 0.3366, Accuracy: 44032/50000 (88.06%)\n"
     ]
    },
    {
     "name": "stderr",
     "output_type": "stream",
     "text": [
      "100%|██████████| 10/10 [00:03<00:00,  2.65it/s]\n"
     ]
    },
    {
     "name": "stdout",
     "output_type": "stream",
     "text": [
      "Test set: Average loss: 0.4627, Accuracy: 8384/10000 (83.84%)\n",
      "\n",
      "Epoch: 27\n"
     ]
    },
    {
     "name": "stderr",
     "output_type": "stream",
     "text": [
      "100%|██████████| 98/98 [00:18<00:00,  5.34it/s]\n"
     ]
    },
    {
     "name": "stdout",
     "output_type": "stream",
     "text": [
      "Train set: Average loss: 0.3382, Accuracy: 43973/50000 (87.95%)\n"
     ]
    },
    {
     "name": "stderr",
     "output_type": "stream",
     "text": [
      "100%|██████████| 10/10 [00:03<00:00,  2.63it/s]\n"
     ]
    },
    {
     "name": "stdout",
     "output_type": "stream",
     "text": [
      "Test set: Average loss: 0.4640, Accuracy: 8386/10000 (83.86%)\n",
      "\n",
      "Epoch: 28\n"
     ]
    },
    {
     "name": "stderr",
     "output_type": "stream",
     "text": [
      "100%|██████████| 98/98 [00:18<00:00,  5.34it/s]\n"
     ]
    },
    {
     "name": "stdout",
     "output_type": "stream",
     "text": [
      "Train set: Average loss: 0.3337, Accuracy: 44114/50000 (88.23%)\n"
     ]
    },
    {
     "name": "stderr",
     "output_type": "stream",
     "text": [
      "100%|██████████| 10/10 [00:03<00:00,  2.61it/s]\n"
     ]
    },
    {
     "name": "stdout",
     "output_type": "stream",
     "text": [
      "Test set: Average loss: 0.4634, Accuracy: 8400/10000 (84.00%)\n",
      "\n",
      "Epoch: 29\n"
     ]
    },
    {
     "name": "stderr",
     "output_type": "stream",
     "text": [
      "100%|██████████| 98/98 [00:18<00:00,  5.32it/s]\n"
     ]
    },
    {
     "name": "stdout",
     "output_type": "stream",
     "text": [
      "Train set: Average loss: 0.3330, Accuracy: 44050/50000 (88.10%)\n"
     ]
    },
    {
     "name": "stderr",
     "output_type": "stream",
     "text": [
      "100%|██████████| 10/10 [00:03<00:00,  2.63it/s]\n"
     ]
    },
    {
     "name": "stdout",
     "output_type": "stream",
     "text": [
      "Test set: Average loss: 0.4624, Accuracy: 8394/10000 (83.94%)\n",
      "\n",
      "Epoch: 30\n"
     ]
    },
    {
     "name": "stderr",
     "output_type": "stream",
     "text": [
      "100%|██████████| 98/98 [00:18<00:00,  5.33it/s]\n"
     ]
    },
    {
     "name": "stdout",
     "output_type": "stream",
     "text": [
      "Train set: Average loss: 0.3378, Accuracy: 44002/50000 (88.00%)\n"
     ]
    },
    {
     "name": "stderr",
     "output_type": "stream",
     "text": [
      "100%|██████████| 10/10 [00:03<00:00,  2.61it/s]\n"
     ]
    },
    {
     "name": "stdout",
     "output_type": "stream",
     "text": [
      "Test set: Average loss: 0.4632, Accuracy: 8375/10000 (83.75%)\n",
      "\n",
      "Epoch: 31\n"
     ]
    },
    {
     "name": "stderr",
     "output_type": "stream",
     "text": [
      "100%|██████████| 98/98 [00:18<00:00,  5.33it/s]\n"
     ]
    },
    {
     "name": "stdout",
     "output_type": "stream",
     "text": [
      "Train set: Average loss: 0.3306, Accuracy: 44085/50000 (88.17%)\n"
     ]
    },
    {
     "name": "stderr",
     "output_type": "stream",
     "text": [
      "100%|██████████| 10/10 [00:03<00:00,  2.65it/s]\n"
     ]
    },
    {
     "name": "stdout",
     "output_type": "stream",
     "text": [
      "Test set: Average loss: 0.4629, Accuracy: 8388/10000 (83.88%)\n",
      "\n",
      "Epoch: 32\n"
     ]
    },
    {
     "name": "stderr",
     "output_type": "stream",
     "text": [
      "100%|██████████| 98/98 [00:18<00:00,  5.34it/s]\n"
     ]
    },
    {
     "name": "stdout",
     "output_type": "stream",
     "text": [
      "Train set: Average loss: 0.3322, Accuracy: 44065/50000 (88.13%)\n"
     ]
    },
    {
     "name": "stderr",
     "output_type": "stream",
     "text": [
      "100%|██████████| 10/10 [00:03<00:00,  2.66it/s]\n"
     ]
    },
    {
     "name": "stdout",
     "output_type": "stream",
     "text": [
      "Test set: Average loss: 0.4619, Accuracy: 8398/10000 (83.98%)\n",
      "\n",
      "Epoch: 33\n"
     ]
    },
    {
     "name": "stderr",
     "output_type": "stream",
     "text": [
      "100%|██████████| 98/98 [00:18<00:00,  5.34it/s]\n"
     ]
    },
    {
     "name": "stdout",
     "output_type": "stream",
     "text": [
      "Train set: Average loss: 0.3294, Accuracy: 44156/50000 (88.31%)\n"
     ]
    },
    {
     "name": "stderr",
     "output_type": "stream",
     "text": [
      "100%|██████████| 10/10 [00:03<00:00,  2.62it/s]\n"
     ]
    },
    {
     "name": "stdout",
     "output_type": "stream",
     "text": [
      "Test set: Average loss: 0.4619, Accuracy: 8390/10000 (83.90%)\n",
      "\n",
      "Epoch: 34\n"
     ]
    },
    {
     "name": "stderr",
     "output_type": "stream",
     "text": [
      "100%|██████████| 98/98 [00:18<00:00,  5.33it/s]\n"
     ]
    },
    {
     "name": "stdout",
     "output_type": "stream",
     "text": [
      "Train set: Average loss: 0.3346, Accuracy: 44107/50000 (88.21%)\n"
     ]
    },
    {
     "name": "stderr",
     "output_type": "stream",
     "text": [
      "100%|██████████| 10/10 [00:03<00:00,  2.67it/s]\n"
     ]
    },
    {
     "name": "stdout",
     "output_type": "stream",
     "text": [
      "Test set: Average loss: 0.4631, Accuracy: 8375/10000 (83.75%)\n",
      "\n",
      "Epoch: 35\n"
     ]
    },
    {
     "name": "stderr",
     "output_type": "stream",
     "text": [
      "100%|██████████| 98/98 [00:18<00:00,  5.32it/s]\n"
     ]
    },
    {
     "name": "stdout",
     "output_type": "stream",
     "text": [
      "Train set: Average loss: 0.3289, Accuracy: 44241/50000 (88.48%)\n"
     ]
    },
    {
     "name": "stderr",
     "output_type": "stream",
     "text": [
      "100%|██████████| 10/10 [00:03<00:00,  2.62it/s]\n"
     ]
    },
    {
     "name": "stdout",
     "output_type": "stream",
     "text": [
      "Test set: Average loss: 0.4625, Accuracy: 8381/10000 (83.81%)\n",
      "\n",
      "Epoch: 36\n"
     ]
    },
    {
     "name": "stderr",
     "output_type": "stream",
     "text": [
      "100%|██████████| 98/98 [00:18<00:00,  5.34it/s]\n"
     ]
    },
    {
     "name": "stdout",
     "output_type": "stream",
     "text": [
      "Train set: Average loss: 0.3276, Accuracy: 44251/50000 (88.50%)\n"
     ]
    },
    {
     "name": "stderr",
     "output_type": "stream",
     "text": [
      "100%|██████████| 10/10 [00:03<00:00,  2.62it/s]\n"
     ]
    },
    {
     "name": "stdout",
     "output_type": "stream",
     "text": [
      "Test set: Average loss: 0.4617, Accuracy: 8393/10000 (83.93%)\n",
      "\n",
      "Epoch: 37\n"
     ]
    },
    {
     "name": "stderr",
     "output_type": "stream",
     "text": [
      "100%|██████████| 98/98 [00:18<00:00,  5.34it/s]\n"
     ]
    },
    {
     "name": "stdout",
     "output_type": "stream",
     "text": [
      "Train set: Average loss: 0.3260, Accuracy: 44269/50000 (88.54%)\n"
     ]
    },
    {
     "name": "stderr",
     "output_type": "stream",
     "text": [
      "100%|██████████| 10/10 [00:03<00:00,  2.59it/s]\n"
     ]
    },
    {
     "name": "stdout",
     "output_type": "stream",
     "text": [
      "Test set: Average loss: 0.4618, Accuracy: 8395/10000 (83.95%)\n",
      "\n",
      "Epoch: 38\n"
     ]
    },
    {
     "name": "stderr",
     "output_type": "stream",
     "text": [
      "100%|██████████| 98/98 [00:18<00:00,  5.33it/s]\n"
     ]
    },
    {
     "name": "stdout",
     "output_type": "stream",
     "text": [
      "Train set: Average loss: 0.3299, Accuracy: 44147/50000 (88.29%)\n"
     ]
    },
    {
     "name": "stderr",
     "output_type": "stream",
     "text": [
      "100%|██████████| 10/10 [00:03<00:00,  2.65it/s]\n"
     ]
    },
    {
     "name": "stdout",
     "output_type": "stream",
     "text": [
      "Test set: Average loss: 0.4620, Accuracy: 8390/10000 (83.90%)\n",
      "\n",
      "Epoch: 39\n"
     ]
    },
    {
     "name": "stderr",
     "output_type": "stream",
     "text": [
      "100%|██████████| 98/98 [00:18<00:00,  5.34it/s]\n"
     ]
    },
    {
     "name": "stdout",
     "output_type": "stream",
     "text": [
      "Train set: Average loss: 0.3280, Accuracy: 44171/50000 (88.34%)\n"
     ]
    },
    {
     "name": "stderr",
     "output_type": "stream",
     "text": [
      "100%|██████████| 10/10 [00:03<00:00,  2.64it/s]"
     ]
    },
    {
     "name": "stdout",
     "output_type": "stream",
     "text": [
      "Test set: Average loss: 0.4628, Accuracy: 8396/10000 (83.96%)\n"
     ]
    },
    {
     "name": "stderr",
     "output_type": "stream",
     "text": [
      "\n"
     ]
    }
   ],
   "source": [
    "train_loss_lst=[]\n",
    "train_acc_lst=[]\n",
    "val_loss_lst=[]\n",
    "val_acc_lst=[]\n",
    "for epoch in range(0, EPOCHS):\n",
    "    print(f\"\\nEpoch: {epoch}\")\n",
    "    train_loss, train_acc = train(model, train_loader, optimizer)\n",
    "    test_loss, test_acc = test(model, test_loader)\n",
    "    train_loss_lst.append(train_loss)\n",
    "    train_acc_lst.append(train_acc)\n",
    "    val_loss_lst.append(test_loss)\n",
    "    val_acc_lst.append(test_acc)\n",
    "    scheduler.step()"
   ]
  },
  {
   "cell_type": "code",
   "execution_count": 14,
   "id": "0dc1828e",
   "metadata": {},
   "outputs": [
    {
     "data": {
      "text/plain": [
       "<matplotlib.legend.Legend at 0x7f597e061af0>"
      ]
     },
     "execution_count": 14,
     "metadata": {},
     "output_type": "execute_result"
    },
    {
     "data": {
      "image/png": "[encoded data removed]",
      "text/plain": [
       "<Figure size 432x288 with 1 Axes>"
      ]
     },
     "metadata": {
      "needs_background": "light"
     },
     "output_type": "display_data"
    }
   ],
   "source": [
    "plt.plot(train_loss_lst, label='Training loss')\n",
    "plt.plot(val_loss_lst, label='Validation loss')\n",
    "plt.title('Loss')\n",
    "plt.legend()"
   ]
  },
  {
   "cell_type": "code",
   "execution_count": 15,
   "id": "82508760",
   "metadata": {},
   "outputs": [
    {
     "data": {
      "text/plain": [
       "<matplotlib.legend.Legend at 0x7f5a345d7820>"
      ]
     },
     "execution_count": 15,
     "metadata": {},
     "output_type": "execute_result"
    },
    {
     "data": {
      "image/png": "[encoded data removed]",
      "text/plain": [
       "<Figure size 432x288 with 1 Axes>"
      ]
     },
     "metadata": {
      "needs_background": "light"
     },
     "output_type": "display_data"
    }
   ],
   "source": [
    "plt.plot(train_acc_lst, label='Training accuracy')\n",
    "plt.plot(val_acc_lst, label='validation accuracy')\n",
    "plt.title('Accuracy')\n",
    "plt.legend()"
   ]
  },
  {
   "cell_type": "code",
   "execution_count": 16,
   "id": "a9a3f19b",
   "metadata": {},
   "outputs": [
    {
     "name": "stderr",
     "output_type": "stream",
     "text": [
      "100%|██████████| 40/40 [00:06<00:00,  6.62it/s]"
     ]
    },
    {
     "name": "stdout",
     "output_type": "stream",
     "text": [
      "(20000, 64)\n",
      "(20000,)\n"
     ]
    },
    {
     "name": "stderr",
     "output_type": "stream",
     "text": [
      "\n"
     ]
    }
   ],
   "source": [
    "model.eval()\n",
    "unlabel_features_training = torch.empty((0,64))\n",
    "grand_truth_training = torch.empty((0))\n",
    "for data, target in tqdm(unlabel_training_dataloader):\n",
    "    data, target = data.to(device), target\n",
    "    feature = model.feature((Scattering2D(data)))\n",
    "    unlabel_features_training = torch.cat((unlabel_features_training,feature.detach().cpu()), 0)\n",
    "    grand_truth_training = torch.cat((grand_truth_training, target), 0)\n",
    "unlabel_features_training = unlabel_features_training.numpy()\n",
    "grand_truth_training = grand_truth_training.numpy()\n",
    "print(unlabel_features_training.shape)\n",
    "print(grand_truth_training.shape)"
   ]
  },
  {
   "cell_type": "code",
   "execution_count": 17,
   "id": "d0787549",
   "metadata": {},
   "outputs": [
    {
     "name": "stderr",
     "output_type": "stream",
     "text": [
      "100%|██████████| 8/8 [00:01<00:00,  5.37it/s]"
     ]
    },
    {
     "name": "stdout",
     "output_type": "stream",
     "text": [
      "(4000, 64)\n",
      "(4000,)\n"
     ]
    },
    {
     "name": "stderr",
     "output_type": "stream",
     "text": [
      "\n"
     ]
    }
   ],
   "source": [
    "model.eval()\n",
    "unlabel_features_test = torch.empty((0,64))\n",
    "grand_truth_test = torch.empty((0))\n",
    "for data, target in tqdm(unlabel_test_dataloader):\n",
    "    data, target = data.to(device), target\n",
    "    feature = model.feature((Scattering2D(data)))\n",
    "    unlabel_features_test = torch.cat((unlabel_features_test,feature.detach().cpu()), 0)\n",
    "    grand_truth_test = torch.cat((grand_truth_test, target), 0)\n",
    "unlabel_features_test = unlabel_features_test.numpy()\n",
    "grand_truth_test = grand_truth_test.numpy()\n",
    "print(unlabel_features_test.shape)\n",
    "print(grand_truth_test.shape)"
   ]
  },
  {
   "cell_type": "code",
   "execution_count": 18,
   "id": "ef4875cc",
   "metadata": {},
   "outputs": [],
   "source": [
    "GMM = GaussianMixture(n_components=NUM_UNTARGET_CLASS).fit(unlabel_features_training)"
   ]
  },
  {
   "cell_type": "code",
   "execution_count": 19,
   "id": "93a9bc0b",
   "metadata": {},
   "outputs": [],
   "source": [
    "pred = GMM.predict(unlabel_features_test)"
   ]
  },
  {
   "cell_type": "code",
   "execution_count": 20,
   "id": "a9268bdb",
   "metadata": {},
   "outputs": [],
   "source": [
    "match_map = np.zeros((len(REPLACE_LST),len(np.unique(pred))))\n",
    "for grand_truth_idx, tar in enumerate(REPLACE_LST):\n",
    "    for pred_idx, p_tar in enumerate(np.unique(pred)):\n",
    "        g_eq = grand_truth_test==tar\n",
    "        pred_= pred==p_tar\n",
    "        match_map[grand_truth_idx, pred_idx] = np.sum(g_eq&pred_)/1000"
   ]
  },
  {
   "cell_type": "code",
   "execution_count": 21,
   "id": "7323d73b",
   "metadata": {},
   "outputs": [
    {
     "data": {
      "text/plain": [
       "<AxesSubplot:>"
      ]
     },
     "execution_count": 21,
     "metadata": {},
     "output_type": "execute_result"
    },
    {
     "data": {
      "image/png": "[encoded data removed]",
      "text/plain": [
       "<Figure size 432x288 with 2 Axes>"
      ]
     },
     "metadata": {
      "needs_background": "light"
     },
     "output_type": "display_data"
    }
   ],
   "source": [
    "sns.heatmap(match_map,vmin=0, vmax=1, annot=True, cmap=\"YlGnBu\")"
   ]
  },
  {
   "cell_type": "code",
   "execution_count": 22,
   "id": "d15dcd8a",
   "metadata": {},
   "outputs": [],
   "source": [
    "match_lst = {}\n",
    "for ground_truth, i in enumerate(np.argmax(match_map,1)):\n",
    "    match_lst[ground_truth]=REPLACE_LST[i]"
   ]
  },
  {
   "cell_type": "code",
   "execution_count": 23,
   "id": "401c5efe",
   "metadata": {},
   "outputs": [],
   "source": [
    "test_loader = torch.utils.data.DataLoader(test_set, \n",
    "                                           batch_size=1,\n",
    "                                           shuffle=False,\n",
    "                                           num_workers=6, \n",
    "                                           drop_last=False)"
   ]
  },
  {
   "cell_type": "code",
   "execution_count": 24,
   "id": "9811602c",
   "metadata": {},
   "outputs": [],
   "source": [
    "def test_with_unlabel(model, test_loader):\n",
    "    cnt_matrix = np.zeros((NUM_CLASS,NUM_CLASS))\n",
    "    device = next(model.parameters()).device\n",
    "    model.eval()\n",
    "    num_examples = 0\n",
    "    correct = 0\n",
    "    with torch.no_grad():\n",
    "        for data, target in tqdm(test_loader):\n",
    "            re_target = replace(target)\n",
    "            data, re_target, target = data.to(device), re_target.to(device), target.to(device)\n",
    "            \n",
    "            output = model(Scattering2D(data))\n",
    "            pred = output.max(1, keepdim=True)[1]\n",
    "            if pred == NUM_CLASS-NUM_UNTARGET_CLASS-1:\n",
    "                feature = model.feature((Scattering2D(data))).cpu().numpy()\n",
    "                pred = torch.tensor(match_lst[GMM.predict(feature)]).to(device)\n",
    "            correct += pred.eq(target.view_as(pred)).sum().item()\n",
    "            num_examples += len(data)\n",
    "            cnt_matrix[target.item(), pred.item()] += len(data)\n",
    "    test_acc = 100. * correct / num_examples\n",
    "\n",
    "    print(f'Accuracy: {correct}/{num_examples} ({test_acc:.2f}%)')\n",
    "\n",
    "    return cnt_matrix"
   ]
  },
  {
   "cell_type": "code",
   "execution_count": 25,
   "id": "55a6fdc4",
   "metadata": {},
   "outputs": [],
   "source": [
    "test_loader = torch.utils.data.DataLoader(test_set, \n",
    "                                           batch_size=1024,\n",
    "                                           shuffle=False,\n",
    "                                           num_workers=6, \n",
    "                                           drop_last=False)"
   ]
  },
  {
   "cell_type": "code",
   "execution_count": 26,
   "id": "ff0caeb0",
   "metadata": {},
   "outputs": [],
   "source": [
    "def test_with_unlabel(model, test_loader):\n",
    "    cnt_matrix = np.zeros((NUM_CLASS,NUM_CLASS))\n",
    "    device = next(model.parameters()).device\n",
    "    model.eval()\n",
    "    num_examples = 0\n",
    "    correct = 0\n",
    "    with torch.no_grad():\n",
    "        for data, target in tqdm(test_loader):\n",
    "            re_target = replace(target)\n",
    "            data, re_target, target = data.to(device), re_target.to(device), target.to(device)\n",
    "            output = model(Scattering2D(data))\n",
    "            preds = output.max(1, keepdim=True)[1]\n",
    "            for idx,pred in enumerate(preds):\n",
    "                if pred == NUM_CLASS-NUM_UNTARGET_CLASS:\n",
    "                    feature = model.feature((Scattering2D(data[idx]))).cpu().numpy()\n",
    "                    pred = torch.tensor(match_lst[GMM.predict(feature)[0]]).to(device)\n",
    "                cnt_matrix[target[idx].item(), pred.item()] += 1\n",
    "                num_examples += 1\n",
    "    return cnt_matrix"
   ]
  },
  {
   "cell_type": "code",
   "execution_count": 27,
   "id": "dc3a80b1",
   "metadata": {},
   "outputs": [
    {
     "name": "stderr",
     "output_type": "stream",
     "text": [
      "100%|██████████| 10/10 [01:49<00:00, 10.93s/it]\n"
     ]
    },
    {
     "data": {
      "text/plain": [
       "<AxesSubplot:>"
      ]
     },
     "execution_count": 27,
     "metadata": {},
     "output_type": "execute_result"
    },
    {
     "data": {
      "image/png": "[encoded data removed]",
      "text/plain": [
       "<Figure size 432x288 with 2 Axes>"
      ]
     },
     "metadata": {
      "needs_background": "light"
     },
     "output_type": "display_data"
    }
   ],
   "source": [
    "match_map = test_with_unlabel(model,test_loader)\n",
    "sns.heatmap(match_map/1000, cmap=\"YlGnBu\")"
   ]
  },
  {
   "cell_type": "code",
   "execution_count": null,
   "id": "0e7baf21",
   "metadata": {},
   "outputs": [],
   "source": []
  }
 ],
 "metadata": {
  "kernelspec": {
   "display_name": "Python 3",
   "language": "python",
   "name": "python3"
  },
  "language_info": {
   "codemirror_mode": {
    "name": "ipython",
    "version": 3
   },
   "file_extension": ".py",
   "mimetype": "text/x-python",
   "name": "python",
   "nbconvert_exporter": "python",
   "pygments_lexer": "ipython3",
   "version": "3.8.8"
  }
 },
 "nbformat": 4,
 "nbformat_minor": 5
}
