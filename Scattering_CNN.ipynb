{
 "cells": [
  {
   "cell_type": "code",
   "execution_count": 1,
   "id": "5017960b",
   "metadata": {},
   "outputs": [],
   "source": [
    "import torch\n",
    "import torch.nn as nn\n",
    "import argparse\n",
    "import os\n",
    "from torchsummary import summary\n",
    "from torchvision import datasets, transforms\n",
    "from torch.utils.data import Dataset\n",
    "from kymatio.torch import Scattering2D\n",
    "from tqdm import tqdm\n",
    "import torch.nn.functional as F\n",
    "from torch.optim.lr_scheduler import *\n",
    "import warnings\n",
    "import scipy.stats as stats\n",
    "from sklearn.mixture import GaussianMixture\n",
    "device = torch.device(\"cuda\" if torch.cuda.is_available() else \"cpu\")\n",
    "device\n",
    "from matplotlib import pyplot as plt"
   ]
  },
  {
   "cell_type": "code",
   "execution_count": 2,
   "id": "11f3b501",
   "metadata": {},
   "outputs": [],
   "source": [
    "NUM_CLASS = 10\n",
    "NUM_UNTARGET_CLASS = 3\n",
    "EPOCHS = 5\n",
    "REPLACE_LST = [7,8,9]"
   ]
  },
  {
   "cell_type": "code",
   "execution_count": 3,
   "id": "ca9341da",
   "metadata": {},
   "outputs": [],
   "source": [
    "class UnLabel_Dataset(Dataset):\n",
    "    def __init__(self, imgs, ground_truth, transform):\n",
    "        self.imgs = imgs\n",
    "        self.ground_truth = ground_truth\n",
    "        self.transform = transform\n",
    "    def __len__(self):\n",
    "        return len(self.ground_truth)\n",
    "\n",
    "    def __getitem__(self, idx):\n",
    "        img = self.imgs[idx]\n",
    "        tar = self.ground_truth[idx]\n",
    "        if self.transform:\n",
    "            img = self.transform(img)\n",
    "        #print(img.shape,tar.shape)\n",
    "        return img[None:], tar"
   ]
  },
  {
   "cell_type": "code",
   "execution_count": 4,
   "id": "558f2c09",
   "metadata": {},
   "outputs": [],
   "source": [
    "class get_img():\n",
    "    def __init__(self, classes=[]):\n",
    "        self.classes = classes\n",
    "    def __call__(self, dataset):\n",
    "        tensor_targets = torch.tensor(dataset.targets)\n",
    "        semasks = torch.any(torch.stack( [torch.eq(tensor_targets, aelem).logical_or_(torch.eq(tensor_targets, aelem)) for aelem in self.classes], dim=0), dim = 0)\n",
    "        imgs = dataset.data[semasks]\n",
    "        tars = torch.tensor(dataset.targets)[semasks.tolist()].tolist()\n",
    "        return imgs, tars"
   ]
  },
  {
   "cell_type": "code",
   "execution_count": 5,
   "id": "1f451ec0",
   "metadata": {},
   "outputs": [
    {
     "name": "stdout",
     "output_type": "stream",
     "text": [
      "Files already downloaded and verified\n"
     ]
    }
   ],
   "source": [
    "normalize = transforms.Normalize(mean=[0.485, 0.456, 0.406],\n",
    "                                         std=[0.229, 0.224, 0.225])\n",
    "\n",
    "train_transforms = [transforms.RandomHorizontalFlip(),\n",
    "                    transforms.RandomCrop(32, 4),\n",
    "                    transforms.ToTensor(),\n",
    "                    normalize,\n",
    "                   ]\n",
    "train_set = datasets.CIFAR10(root=\"./data\", train=True,\n",
    "                                     transform=transforms.Compose(train_transforms),\n",
    "                                     download=True)\n",
    "test_set = datasets.CIFAR10(root=\"./data\", train=False,\n",
    "                                    transform=transforms.Compose(\n",
    "                                        [transforms.ToTensor(), normalize]\n",
    "                                    ))"
   ]
  },
  {
   "cell_type": "code",
   "execution_count": 6,
   "id": "aead24f5",
   "metadata": {},
   "outputs": [],
   "source": [
    "train_loader = torch.utils.data.DataLoader(train_set, \n",
    "                                           batch_size=512,\n",
    "                                           shuffle=True,\n",
    "                                           num_workers=6, \n",
    "                                           drop_last=False)\n",
    "test_loader = torch.utils.data.DataLoader(test_set, \n",
    "                                           batch_size=1024,\n",
    "                                           shuffle=False,\n",
    "                                           num_workers=6, \n",
    "                                           drop_last=False)"
   ]
  },
  {
   "cell_type": "code",
   "execution_count": 7,
   "id": "756cc17d",
   "metadata": {},
   "outputs": [],
   "source": [
    "get_imgs = get_img(REPLACE_LST)\n",
    "unlabel_training_imgs, ground_truth_training = get_imgs(train_set)\n",
    "unlabel_training_dataset = UnLabel_Dataset(unlabel_training_imgs,\n",
    "                                           ground_truth_training,\n",
    "                                           transform=transforms.Compose([transforms.ToTensor(), normalize])\n",
    "                                          )\n",
    "unlabel_training_dataloader = torch.utils.data.DataLoader(unlabel_training_dataset,\n",
    "                                                          batch_size=512,\n",
    "                                                          shuffle=False,\n",
    "                                                          num_workers=6,\n",
    "                                                          drop_last=False)\n",
    "\n",
    "get_imgs = get_img(REPLACE_LST)\n",
    "unlabel_test_imgs, ground_truth_test = get_imgs(test_set)\n",
    "unlabel_test_dataset = UnLabel_Dataset(unlabel_test_imgs,\n",
    "                                       ground_truth_test,\n",
    "                                       transform=transforms.Compose([transforms.ToTensor(), normalize])\n",
    "                                      )\n",
    "unlabel_test_dataloader = torch.utils.data.DataLoader(unlabel_test_dataset,\n",
    "                                                          batch_size=512,\n",
    "                                                          shuffle=False,\n",
    "                                                          num_workers=6,\n",
    "                                                          drop_last=False)\n"
   ]
  },
  {
   "cell_type": "code",
   "execution_count": 8,
   "id": "ac6298d7",
   "metadata": {},
   "outputs": [],
   "source": [
    "class replace_label():\n",
    "    def __init__(self, labels=[], tar_label=7):\n",
    "        super(replace_label, self).__init__()\n",
    "        if len(labels)!=NUM_UNTARGET_CLASS:\n",
    "            warnings.warn('Length of labels neq to NUM_UNTARGET_CLASS!')\n",
    "        self.labels = labels\n",
    "        self.tar_label = tar_label\n",
    "    def __call__(self, labels):\n",
    "        labels_cpy = torch.clone(labels)\n",
    "        semasks = torch.any(torch.stack( [torch.eq(labels, aelem).logical_or_(torch.eq(labels, aelem)) for aelem in self.labels], dim=0), dim = 0)\n",
    "        labels_cpy[semasks] = self.tar_label\n",
    "        return labels_cpy"
   ]
  },
  {
   "cell_type": "code",
   "execution_count": 9,
   "id": "a61878d2",
   "metadata": {},
   "outputs": [],
   "source": [
    "class ScatterCNN(nn.Module):\n",
    "    def __init__(self, classes=10, **kwargs):\n",
    "        super(ScatterCNN, self).__init__()\n",
    "        self.norm0 = nn.BatchNorm2d(3*81)\n",
    "        self.Conv0 = nn.Conv2d(3*81, 256, kernel_size=1, stride=1)\n",
    "        self.norm1 = nn.BatchNorm2d(256)\n",
    "        self.prelu1 = nn.PReLU()\n",
    "        self.Conv1 = nn.Conv2d(256, 128, kernel_size=3, stride=1)\n",
    "        self.norm2 = nn.BatchNorm2d(128)\n",
    "        self.relu = nn.ReLU()\n",
    "        self.maxpool = nn.MaxPool2d(2, stride=2)\n",
    "        self.Conv2 = nn.Conv2d(128, 64, kernel_size=3, stride=1)\n",
    "        self.norm3 = nn.BatchNorm2d(64)\n",
    "        self.prelu2 = nn.PReLU()\n",
    "        self.fc = nn.Linear(64*1, classes)\n",
    "    def feature(self, x):\n",
    "        x = x.view(-1, 3 * 81, 8, 8)\n",
    "        x = self.norm0(x)\n",
    "        x = self.Conv0(x)\n",
    "        x = self.norm1(x)\n",
    "        x = self.prelu1(x)\n",
    "        x = self.Conv1(x)\n",
    "        x = self.norm2(x)\n",
    "        x = self.relu(x)\n",
    "        x = self.maxpool(x)\n",
    "        x = self.Conv2(x)\n",
    "        x = self.norm3(x)\n",
    "        x = self.prelu2(x)\n",
    "        x = x.reshape(x.size(0), -1)\n",
    "        return x\n",
    "    \n",
    "    def forward(self, x):\n",
    "        x = self.feature(x)\n",
    "        x = self.fc(x)\n",
    "        return x"
   ]
  },
  {
   "cell_type": "code",
   "execution_count": 10,
   "id": "79e7a7d6",
   "metadata": {},
   "outputs": [],
   "source": [
    "model = ScatterCNN(classes=NUM_CLASS-NUM_UNTARGET_CLASS+1)"
   ]
  },
  {
   "cell_type": "code",
   "execution_count": 11,
   "id": "e3dac2d2",
   "metadata": {},
   "outputs": [],
   "source": [
    "optimizer = torch.optim.SGD(model.parameters(), lr=0.1,\n",
    "                                    momentum=0.9,\n",
    "                                    nesterov=False)\n",
    "scheduler = MultiStepLR(optimizer, milestones=[10,20], gamma=0.1)"
   ]
  },
  {
   "cell_type": "code",
   "execution_count": 12,
   "id": "cf9b75a2",
   "metadata": {},
   "outputs": [],
   "source": [
    "replace = replace_label(REPLACE_LST, NUM_CLASS-NUM_UNTARGET_CLASS)\n",
    "Scattering2D = Scattering2D(J=2, shape=(32, 32)).cuda()\n",
    "def train(model, train_loader, optimizer):\n",
    "    model = model.to(device)\n",
    "    model.train()\n",
    "    num_examples = 0\n",
    "    correct = 0\n",
    "    train_loss = 0\n",
    "    for data, target in tqdm(train_loader):\n",
    "        target = replace(target)\n",
    "        data, target = data.to(device), target.to(device)\n",
    "        #print(target.shape, target)\n",
    "        output = model(Scattering2D(data))\n",
    "        #print(data.shape,output.shape, target.shape)\n",
    "        loss = F.cross_entropy(output, target)\n",
    "        loss.backward()\n",
    "        optimizer.step()\n",
    "        optimizer.zero_grad()\n",
    "        pred = output.max(1, keepdim=True)[1]\n",
    "        correct += pred.eq(target.view_as(pred)).sum().item()\n",
    "        train_loss += F.cross_entropy(output, target, reduction='sum').item()\n",
    "        num_examples += len(data)\n",
    "\n",
    "    train_loss /= num_examples\n",
    "    train_acc = 100. * correct / num_examples\n",
    "    print(f'Train set: Average loss: {train_loss:.4f}, '\n",
    "          f'Accuracy: {correct}/{num_examples} ({train_acc:.2f}%)')\n",
    "    return train_loss, train_acc"
   ]
  },
  {
   "cell_type": "code",
   "execution_count": 13,
   "id": "1863e44b",
   "metadata": {},
   "outputs": [],
   "source": [
    "def test(model, test_loader):\n",
    "    device = next(model.parameters()).device\n",
    "    \n",
    "    model.eval()\n",
    "    num_examples = 0\n",
    "    test_loss = 0\n",
    "    correct = 0\n",
    "\n",
    "    with torch.no_grad():\n",
    "        for data, target in tqdm(test_loader):\n",
    "            target = replace(target)\n",
    "            data, target = data.to(device), target.to(device)\n",
    "            output = model(Scattering2D(data))\n",
    "            test_loss += F.cross_entropy(output, target, reduction='sum').item()\n",
    "            pred = output.max(1, keepdim=True)[1]\n",
    "            correct += pred.eq(target.view_as(pred)).sum().item()\n",
    "            num_examples += len(data)\n",
    "\n",
    "    test_loss /= num_examples\n",
    "    test_acc = 100. * correct / num_examples\n",
    "\n",
    "    print(f'Test set: Average loss: {test_loss:.4f}, '\n",
    "          f'Accuracy: {correct}/{num_examples} ({test_acc:.2f}%)')\n",
    "\n",
    "    return test_loss, test_acc"
   ]
  },
  {
   "cell_type": "code",
   "execution_count": 14,
   "id": "15998a39",
   "metadata": {
    "scrolled": false
   },
   "outputs": [
    {
     "name": "stdout",
     "output_type": "stream",
     "text": [
      "\n",
      "Epoch: 0\n"
     ]
    },
    {
     "name": "stderr",
     "output_type": "stream",
     "text": [
      "  0%|          | 0/98 [00:00<?, ?it/s]/home/deponce/.local/lib/python3.8/site-packages/torch/nn/functional.py:718: UserWarning: Named tensors and all their associated APIs are an experimental feature and subject to change. Please do not use them for anything important until they are released as stable. (Triggered internally at  /pytorch/c10/core/TensorImpl.h:1156.)\n",
      "  return torch.max_pool2d(input, kernel_size, stride, padding, dilation, ceil_mode)\n",
      "100%|██████████| 98/98 [00:18<00:00,  5.34it/s]\n"
     ]
    },
    {
     "name": "stdout",
     "output_type": "stream",
     "text": [
      "Train set: Average loss: 1.1344, Accuracy: 29205/50000 (58.41%)\n"
     ]
    },
    {
     "name": "stderr",
     "output_type": "stream",
     "text": [
      "100%|██████████| 10/10 [00:03<00:00,  2.99it/s]\n"
     ]
    },
    {
     "name": "stdout",
     "output_type": "stream",
     "text": [
      "Test set: Average loss: 1.0376, Accuracy: 6445/10000 (64.45%)\n",
      "\n",
      "Epoch: 1\n"
     ]
    },
    {
     "name": "stderr",
     "output_type": "stream",
     "text": [
      "100%|██████████| 98/98 [00:18<00:00,  5.36it/s]\n"
     ]
    },
    {
     "name": "stdout",
     "output_type": "stream",
     "text": [
      "Train set: Average loss: 0.8456, Accuracy: 34768/50000 (69.54%)\n"
     ]
    },
    {
     "name": "stderr",
     "output_type": "stream",
     "text": [
      "100%|██████████| 10/10 [00:03<00:00,  3.03it/s]\n"
     ]
    },
    {
     "name": "stdout",
     "output_type": "stream",
     "text": [
      "Test set: Average loss: 0.8098, Accuracy: 7099/10000 (70.99%)\n",
      "\n",
      "Epoch: 2\n"
     ]
    },
    {
     "name": "stderr",
     "output_type": "stream",
     "text": [
      "100%|██████████| 98/98 [00:18<00:00,  5.34it/s]\n"
     ]
    },
    {
     "name": "stdout",
     "output_type": "stream",
     "text": [
      "Train set: Average loss: 0.7430, Accuracy: 36744/50000 (73.49%)\n"
     ]
    },
    {
     "name": "stderr",
     "output_type": "stream",
     "text": [
      "100%|██████████| 10/10 [00:03<00:00,  2.98it/s]\n"
     ]
    },
    {
     "name": "stdout",
     "output_type": "stream",
     "text": [
      "Test set: Average loss: 0.7064, Accuracy: 7524/10000 (75.24%)\n",
      "\n",
      "Epoch: 3\n"
     ]
    },
    {
     "name": "stderr",
     "output_type": "stream",
     "text": [
      "100%|██████████| 98/98 [00:18<00:00,  5.35it/s]\n"
     ]
    },
    {
     "name": "stdout",
     "output_type": "stream",
     "text": [
      "Train set: Average loss: 0.6841, Accuracy: 37822/50000 (75.64%)\n"
     ]
    },
    {
     "name": "stderr",
     "output_type": "stream",
     "text": [
      "100%|██████████| 10/10 [00:03<00:00,  3.06it/s]\n"
     ]
    },
    {
     "name": "stdout",
     "output_type": "stream",
     "text": [
      "Test set: Average loss: 0.6715, Accuracy: 7676/10000 (76.76%)\n",
      "\n",
      "Epoch: 4\n"
     ]
    },
    {
     "name": "stderr",
     "output_type": "stream",
     "text": [
      "100%|██████████| 98/98 [00:18<00:00,  5.36it/s]\n"
     ]
    },
    {
     "name": "stdout",
     "output_type": "stream",
     "text": [
      "Train set: Average loss: 0.6331, Accuracy: 38756/50000 (77.51%)\n"
     ]
    },
    {
     "name": "stderr",
     "output_type": "stream",
     "text": [
      "100%|██████████| 10/10 [00:03<00:00,  3.04it/s]"
     ]
    },
    {
     "name": "stdout",
     "output_type": "stream",
     "text": [
      "Test set: Average loss: 0.6150, Accuracy: 7859/10000 (78.59%)\n"
     ]
    },
    {
     "name": "stderr",
     "output_type": "stream",
     "text": [
      "\n"
     ]
    }
   ],
   "source": [
    "train_loss_lst=[]\n",
    "train_acc_lst=[]\n",
    "val_loss_lst=[]\n",
    "val_acc_lst=[]\n",
    "for epoch in range(0, EPOCHS):\n",
    "    print(f\"\\nEpoch: {epoch}\")\n",
    "    train_loss, train_acc = train(model, train_loader, optimizer)\n",
    "    test_loss, test_acc = test(model, test_loader)\n",
    "    train_loss_lst.append(train_loss)\n",
    "    train_acc_lst.append(train_acc)\n",
    "    val_loss_lst.append(test_loss)\n",
    "    val_acc_lst.append(test_acc)\n",
    "    scheduler.step()"
   ]
  },
  {
   "cell_type": "code",
   "execution_count": 15,
   "id": "0dc1828e",
   "metadata": {},
   "outputs": [
    {
     "data": {
      "text/plain": [
       "<matplotlib.legend.Legend at 0x7f16800d2a30>"
      ]
     },
     "execution_count": 15,
     "metadata": {},
     "output_type": "execute_result"
    },
    {
     "data": {
      "image/png": "[encoded data removed]",
      "text/plain": [
       "<Figure size 432x288 with 1 Axes>"
      ]
     },
     "metadata": {
      "needs_background": "light"
     },
     "output_type": "display_data"
    }
   ],
   "source": [
    "plt.plot(train_loss_lst, label='Training loss')\n",
    "plt.plot(val_loss_lst, label='Validation loss')\n",
    "plt.title('Loss')\n",
    "plt.legend()"
   ]
  },
  {
   "cell_type": "code",
   "execution_count": 16,
   "id": "82508760",
   "metadata": {},
   "outputs": [
    {
     "data": {
      "text/plain": [
       "<matplotlib.legend.Legend at 0x7f16817d2f40>"
      ]
     },
     "execution_count": 16,
     "metadata": {},
     "output_type": "execute_result"
    },
    {
     "data": {
      "image/png": "[encoded data removed]",
      "text/plain": [
       "<Figure size 432x288 with 1 Axes>"
      ]
     },
     "metadata": {
      "needs_background": "light"
     },
     "output_type": "display_data"
    }
   ],
   "source": [
    "plt.plot(train_acc_lst, label='Training accuracy')\n",
    "plt.plot(val_acc_lst, label='validation accuracy')\n",
    "plt.title('Accuracy')\n",
    "plt.legend()"
   ]
  },
  {
   "cell_type": "code",
   "execution_count": 23,
   "id": "a9a3f19b",
   "metadata": {},
   "outputs": [
    {
     "name": "stderr",
     "output_type": "stream",
     "text": [
      "100%|██████████| 30/30 [00:04<00:00,  6.54it/s]"
     ]
    },
    {
     "name": "stdout",
     "output_type": "stream",
     "text": [
      "(15000, 64)\n",
      "(15000,)\n"
     ]
    },
    {
     "name": "stderr",
     "output_type": "stream",
     "text": [
      "\n"
     ]
    }
   ],
   "source": [
    "model.eval()\n",
    "unlabel_features_training = torch.empty((0,64))\n",
    "grand_truth_training = torch.empty((0))\n",
    "for data, target in tqdm(unlabel_training_dataloader):\n",
    "    target = replace(target)\n",
    "    data, target = data.to(device), target\n",
    "    feature = model.feature((Scattering2D(data)))\n",
    "    unlabel_features_training = torch.cat((unlabel_features_training,feature.detach().cpu()), 0)\n",
    "    grand_truth_training = torch.cat((grand_truth_training, target), 0)\n",
    "unlabel_features_training = unlabel_features_training.numpy()\n",
    "grand_truth_training = grand_truth_training.numpy()\n",
    "print(unlabel_features_training.shape)\n",
    "print(grand_truth_training.shape)"
   ]
  },
  {
   "cell_type": "code",
   "execution_count": 24,
   "id": "d0787549",
   "metadata": {},
   "outputs": [
    {
     "name": "stderr",
     "output_type": "stream",
     "text": [
      "100%|██████████| 6/6 [00:01<00:00,  4.85it/s]"
     ]
    },
    {
     "name": "stdout",
     "output_type": "stream",
     "text": [
      "(3000, 64)\n",
      "(3000,)\n"
     ]
    },
    {
     "name": "stderr",
     "output_type": "stream",
     "text": [
      "\n"
     ]
    }
   ],
   "source": [
    "model.eval()\n",
    "unlabel_features_test = torch.empty((0,64))\n",
    "grand_truth_test = torch.empty((0))\n",
    "for data, target in tqdm(unlabel_test_dataloader):\n",
    "    target = replace(target)\n",
    "    data, target = data.to(device), target\n",
    "    feature = model.feature((Scattering2D(data)))\n",
    "    unlabel_features_test = torch.cat((unlabel_features_test,feature.detach().cpu()), 0)\n",
    "    grand_truth_test = torch.cat((grand_truth_test, target), 0)\n",
    "unlabel_features_test = unlabel_features_test.numpy()\n",
    "grand_truth_test = grand_truth_test.numpy()\n",
    "print(unlabel_features_test.shape)\n",
    "print(grand_truth_test.shape)"
   ]
  },
  {
   "cell_type": "code",
   "execution_count": 25,
   "id": "ef4875cc",
   "metadata": {},
   "outputs": [],
   "source": [
    "GMM = GaussianMixture(n_components=NUM_UNTARGET_CLASS).fit(unlabel_features_training)"
   ]
  },
  {
   "cell_type": "code",
   "execution_count": null,
   "id": "93a9bc0b",
   "metadata": {},
   "outputs": [],
   "source": []
  }
 ],
 "metadata": {
  "kernelspec": {
   "display_name": "Python 3",
   "language": "python",
   "name": "python3"
  },
  "language_info": {
   "codemirror_mode": {
    "name": "ipython",
    "version": 3
   },
   "file_extension": ".py",
   "mimetype": "text/x-python",
   "name": "python",
   "nbconvert_exporter": "python",
   "pygments_lexer": "ipython3",
   "version": "3.8.8"
  }
 },
 "nbformat": 4,
 "nbformat_minor": 5
}
