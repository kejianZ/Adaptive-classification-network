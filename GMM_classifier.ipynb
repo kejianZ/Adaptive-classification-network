{
 "cells": [
  {
   "cell_type": "code",
   "execution_count": 2,
   "metadata": {},
   "outputs": [],
   "source": [
    "import numpy as np\n",
    "import torchvision\n",
    "import torchvision.datasets as datasets\n",
    "from sklearn.decomposition import PCA\n",
    "import scipy.stats as stats\n",
    "import random\n",
    "from sklearn.mixture import GaussianMixture\n",
    "import matplotlib.pyplot as plt\n",
    "import seaborn as sns"
   ]
  },
  {
   "cell_type": "markdown",
   "metadata": {},
   "source": [
    "### Part I: Train GMM with no dataset argumentation ###"
   ]
  },
  {
   "cell_type": "markdown",
   "metadata": {},
   "source": [
    " In this document, we will experiment on using pretrained GMM to predict untrained labels. MNIST is the test dataset. <br> In stage 1 (pretrain), 10 - k random classes of numbers will be drawn from 10 digits and each of the classes will be fit by a GMM model. Then in stage 2 (unsupervised learning), each of the test data will be predict by all the pretrained GMM classifiers. If all the classifiers gives a score under some treshold (fixed), then all these unclassifed rows will be gathered together and fit with k extra classifiers.<br> The basic assumpition it each class of digits shares some features follows Gaussian distribution and we can use number of classes inside a GMM to fit with different writing styles or other variations."
   ]
  },
  {
   "cell_type": "markdown",
   "metadata": {},
   "source": [
    "Step 1: Load MNIST DataSet"
   ]
  },
  {
   "cell_type": "code",
   "execution_count": 8,
   "metadata": {},
   "outputs": [],
   "source": [
    "mnist_testset = datasets.MNIST(root='./data', train=False, download=True, transform=torchvision.transforms.Compose([torchvision.transforms.ToTensor()]))\n",
    "mnist_trainset =  datasets.MNIST(root='./data', train=True, download=True, transform=torchvision.transforms.Compose([torchvision.transforms.ToTensor()]))\n",
    "raw_trainX = mnist_trainset.data.numpy()\n",
    "raw_trainY = mnist_trainset.targets.numpy()\n",
    "raw_testX = mnist_testset.data.numpy()\n",
    "raw_testY = mnist_testset.targets.numpy()  "
   ]
  },
  {
   "cell_type": "markdown",
   "metadata": {},
   "source": [
    "Step 2: Using Principal component analysis (PCA) to reduce the dimension which can boost both training time and acurracy."
   ]
  },
  {
   "cell_type": "code",
   "execution_count": 9,
   "metadata": {},
   "outputs": [],
   "source": [
    "# use pca to reduce the dimesion of the dataset, original data size is 28 * 28\n",
    "pca = PCA(n_components=60)\n",
    "trainX = raw_trainX.reshape(raw_trainX.shape[0], -1)\n",
    "trainX = pca.fit_transform(trainX)\n",
    "testX = raw_testX.reshape(raw_testX.shape[0], -1)\n",
    "testX = pca.transform(testX)"
   ]
  },
  {
   "cell_type": "markdown",
   "metadata": {},
   "source": [
    "Pretrained_GMM: \n",
    "###### feed in features-x and labels-y, automatically seperate images by their labels and use a GMM to fit for each classes. comp is the number of mixture components in each classifier. Class size defines how many images in each classes is feed in in the first stage. In MNIST, each classes has approximately 6000 samples. By constrainting how much samples to be feed in the first stage, we can test the performance of the models to recognize unseen images belonging to pretrained GMMs. ######\n",
    "\n",
    "GMMs_predict:\n",
    "###### It is used in stage 2, by passing the pretrained gmms from stage 1 and the whole dataset, the models predicts the score of how lilkely the image belonging to those 10 - k pretrained GMM. If the score samller than some threshold we mark the row as unclassifed (-1) and requires further classfication. <br> NOTE: We tried to first apply softmax to the scores and filter the prediction with confidence (e.x. 95%). However, this method works quite worse than a direct threshold on the scores. The reason could be a tiny difference in score will result in a large digit difference in confidence. There are also cases where every class has a small score but one of them dominates the confidence. A threshold apply directly on the scores reduces these problems.\n",
    "\n",
    "GMM_classify:\n",
    "###### This function is used to classify those images which cannot be predict with pretrained GMMs. Here we use a single GMM and set the number of mixture components as the number of rest of classes-k. We only need a roughly classification that can distinguish different number images. One alternative could be uses full GMM for each different class and apply EM algorithm to optimize the prediction. However, in practise this solution cost much more time and only a limited improvement was observed so we choose to stick with naive GMM implementation."
   ]
  },
  {
   "cell_type": "code",
   "execution_count": 10,
   "metadata": {},
   "outputs": [],
   "source": [
    "def pretrained_GMM(x, y, stage1_labels, comp=5, class_size=5000):\n",
    "    model = []\n",
    "    # stage 1 supervised learning\n",
    "    for i in stage1_labels:\n",
    "        trainX_i = x[y == i]\n",
    "        model.append(GaussianMixture(n_components=comp).fit(trainX_i[:class_size]))\n",
    "    return model\n",
    "\n",
    "def GMMs_predict(x, gmms, k, threshold):\n",
    "    predict = np.zeros((x.shape[0], k), dtype=float)\n",
    "    # use pretrained model to predict x\n",
    "    for i in range(k):\n",
    "        predict[:,i] = gmms[i].score_samples(x)\n",
    "    \n",
    "    max_class = np.amax(predict, axis=1)\n",
    "    return np.where(max_class > threshold, np.argmax(predict, axis=1), -1)\n",
    "\n",
    "def GMM_classify(x, y, cnum):\n",
    "    predict = GaussianMixture(n_components=cnum).fit_predict(x)\n",
    "    result = []\n",
    "    for i in range(cnum):\n",
    "        label = stats.mode(y[predict == i])\n",
    "        result.append((x[predict == i], label))\n",
    "    return result"
   ]
  },
  {
   "cell_type": "code",
   "execution_count": 19,
   "metadata": {},
   "outputs": [],
   "source": [
    "def GMM_solution(x, y, total_class, K, gmm_components=5):\n",
    "    # stage 1 supervised training:\n",
    "    stage1_classes = random.sample(range(total_class), K)                       # a random K-subset of [0,9]\n",
    "    print(stage1_classes)\n",
    "    stage1_model = pretrained_GMM(x, y, stage1_classes, gmm_components)\n",
    "\n",
    "    # stage 2 unsupervised training:\n",
    "    predict = GMMs_predict(x, stage1_model, K, -380)\n",
    "\n",
    "    new_GMMs = []\n",
    "    labels = []\n",
    "    for i in range(K):\n",
    "        new_GMMs.append(GaussianMixture(n_components=gmm_components).fit(x[predict == i]))\n",
    "        labels.append(stats.mode(y[predict == i])[0])\n",
    "\n",
    "    # use rows cannot be classified to train the rest classes\n",
    "    if total_class > K:\n",
    "        if total_class - K == 1:\n",
    "            unlabel_predict = [(x[predict == -1], stats.mode(y[predict == -1])[0])]\n",
    "        else:\n",
    "            unlabel_predict = GMM_classify(x[predict == -1], y[predict == -1], 10 - K)\n",
    "\n",
    "        for i in range(10 - K):\n",
    "            data, label = unlabel_predict[i]\n",
    "            new_GMMs.append(GaussianMixture(n_components=10).fit(data))\n",
    "            labels.append(label[0])\n",
    "    return new_GMMs, labels\n",
    "\n",
    "def GMM_validation(gmms, labels, trainX, trainY, testX, testY, vali=False):\n",
    "    ind_func = lambda x: labels[x]\n",
    "    ind_func = np.vectorize(ind_func)\n",
    "\n",
    "    total_class = len(labels)\n",
    "    train_predict = GMMs_predict(trainX, gmms, total_class, -np.inf)\n",
    "    train_predict = ind_func(train_predict)\n",
    "    \n",
    "\n",
    "    test_predict = GMMs_predict(testX, new_GMMs, total_class, -np.inf)\n",
    "    test_predict = ind_func(test_predict)\n",
    "    \n",
    "    if vali:\n",
    "        return np.sum(train_predict == trainY) / trainY.shape, np.sum(test_predict == testY) / testY.shape, test_predict\n",
    "    else:\n",
    "        return np.sum(train_predict == trainY) / trainY.shape, np.sum(test_predict == testY) / testY.shape"
   ]
  },
  {
   "cell_type": "markdown",
   "metadata": {},
   "source": [
    "Step 3: First we test on feed in all the images, GMMS classifer could easily achieve a over 95% percent accuracy."
   ]
  },
  {
   "cell_type": "code",
   "execution_count": 12,
   "metadata": {},
   "outputs": [
    {
     "name": "stdout",
     "output_type": "stream",
     "text": [
      "GMM's Accuracy on training set: [0.96075]\n",
      "GMM's Accuracy on test set: [0.9586]\n"
     ]
    }
   ],
   "source": [
    "new_GMMs, labels = GMM_solution(trainX, raw_trainY, 10, 10)\n",
    "train_accuracy, test_accuracy = GMM_validation(new_GMMs, labels, trainX, raw_trainY, testX, raw_testY)\n",
    "print(\"GMM's Accuracy on training set: {0}\".format(train_accuracy))\n",
    "print(\"GMM's Accuracy on test set: {0}\".format(test_accuracy))"
   ]
  },
  {
   "cell_type": "code",
   "execution_count": 16,
   "metadata": {},
   "outputs": [],
   "source": [
    "def cal_heatMap(predictY, gtY):\n",
    "    result = np.zeros((10,10), dtype=float)\n",
    "    for i in range(10):\n",
    "        idx = (gtY == i)\n",
    "        idx_len = np.sum(idx)\n",
    "        for j in range(10):\n",
    "            class_pre = predictY[idx] == j\n",
    "            result[i,j] = np.sum(class_pre) / idx_len\n",
    "    return result        "
   ]
  },
  {
   "cell_type": "markdown",
   "metadata": {},
   "source": [
    "Step 4: Now we attempt to reduce the class feed in as pretraining. Accuracy are shown below."
   ]
  },
  {
   "cell_type": "code",
   "execution_count": 38,
   "metadata": {},
   "outputs": [
    {
     "name": "stdout",
     "output_type": "stream",
     "text": [
      "Pre feed classes 5\n",
      "[8, 7, 1, 6, 0]\n"
     ]
    },
    {
     "name": "stderr",
     "output_type": "stream",
     "text": [
      "/home/kent/.local/lib/python3.8/site-packages/sklearn/mixture/_base.py:277: ConvergenceWarning: Initialization 1 did not converge. Try different init parameters, or increase max_iter, tol or check for degenerate data.\n",
      "  warnings.warn(\n"
     ]
    },
    {
     "name": "stdout",
     "output_type": "stream",
     "text": [
      "Pre feed classes 6\n",
      "[2, 7, 4, 0, 9, 6]\n"
     ]
    },
    {
     "name": "stderr",
     "output_type": "stream",
     "text": [
      "/home/kent/.local/lib/python3.8/site-packages/sklearn/mixture/_base.py:277: ConvergenceWarning: Initialization 1 did not converge. Try different init parameters, or increase max_iter, tol or check for degenerate data.\n",
      "  warnings.warn(\n"
     ]
    },
    {
     "name": "stdout",
     "output_type": "stream",
     "text": [
      "Pre feed classes 7\n",
      "[3, 9, 8, 1, 6, 7, 0]\n",
      "Pre feed classes 8\n",
      "[8, 7, 9, 0, 3, 4, 5, 6]\n",
      "Pre feed classes 9\n",
      "[1, 4, 0, 6, 8, 9, 7, 2, 3]\n"
     ]
    },
    {
     "name": "stderr",
     "output_type": "stream",
     "text": [
      "/tmp/ipykernel_1323/4041640475.py:14: MatplotlibDeprecationWarning: Passing non-integers as three-element position specification is deprecated since 3.3 and will be removed two minor releases later.\n",
      "  plt.subplot('212')\n"
     ]
    },
    {
     "data": {
      "image/png": "[encoded data removed]",
      "text/plain": [
       "<Figure size 1440x576 with 11 Axes>"
      ]
     },
     "metadata": {
      "needs_background": "light"
     },
     "output_type": "display_data"
    }
   ],
   "source": [
    "ks = [5,6,7,8,9]\n",
    "train_accuracy = []\n",
    "test_accuracy = []\n",
    "plt.figure(figsize=(20, 8))\n",
    "for k in ks:\n",
    "    print('Pre feed classes {0}'.format(k))\n",
    "    new_GMMs, labels = GMM_solution(trainX, raw_trainY, 10, k, 7)\n",
    "    tra, tta, pred = GMM_validation(new_GMMs, labels, trainX, raw_trainY, testX, raw_testY, True)\n",
    "    class_accuracy = cal_heatMap(pred, raw_testY)\n",
    "    plt.subplot(250 + k - 4)\n",
    "    sns.heatmap(class_accuracy)\n",
    "    train_accuracy.append(tra)\n",
    "    test_accuracy.append(tta)\n",
    "plt.subplot('212')\n",
    "plt.plot(ks, train_accuracy, label='train_accuracy')\n",
    "plt.plot(ks, test_accuracy, label='test_accuracy')\n",
    "plt.legend()\n",
    "plt.xticks(range(5,11))\n",
    "plt.show()"
   ]
  },
  {
   "cell_type": "markdown",
   "metadata": {},
   "source": [
    "Conclusion: <br>\n",
    "From the graphs we could observe that as less classes feed in the less accuracy is achieved with the whole model drops dramatically. The result depends on which classes feed in as pretrained groups heavily. Generally, classes that been included in pretraining has higher accuracy. However, some groups such '5' is easier for GMMs to recognize they could be distinguish well even they are trained in unsupervised stage. <br>\n",
    "Also, in this process after the second unsupervised learning we using the mode in each class as their predict label. Then from hotmap we could see some labels are incorrect that result in a black cell at diagonal lines. That is the main reason the accuracy decreased by 15% compared with other results. <br>\n",
    "GMM makes some fairly predict when the number of unseen classes K is small. However MNIST is a farily easy and there is no data argument included in the dataset. It could be expected that when the same algorithm apply to a more complex dataset (e.x. cifar for other documents) or even apply some affine transformations to MINIST the model won't work well. We will experiment with other more robust algorithms in other documents."
   ]
  }
 ],
 "metadata": {
  "interpreter": {
   "hash": "31f2aee4e71d21fbe5cf8b01ff0e069b9275f58929596ceb00d14d90e3e16cd6"
  },
  "kernelspec": {
   "display_name": "Python 3.8.10 64-bit",
   "language": "python",
   "name": "python3"
  },
  "language_info": {
   "codemirror_mode": {
    "name": "ipython",
    "version": 3
   },
   "file_extension": ".py",
   "mimetype": "text/x-python",
   "name": "python",
   "nbconvert_exporter": "python",
   "pygments_lexer": "ipython3",
   "version": "3.8.10"
  },
  "orig_nbformat": 4
 },
 "nbformat": 4,
 "nbformat_minor": 2
}
