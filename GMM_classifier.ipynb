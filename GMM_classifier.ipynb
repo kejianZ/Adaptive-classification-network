{
 "cells": [
  {
   "cell_type": "code",
   "execution_count": 14,
   "metadata": {},
   "outputs": [],
   "source": [
    "import numpy as np\n",
    "import torchvision\n",
    "import torchvision.datasets as datasets\n",
    "from sklearn.decomposition import PCA\n",
    "import scipy.special as sp\n",
    "import random"
   ]
  },
  {
   "cell_type": "code",
   "execution_count": 9,
   "metadata": {},
   "outputs": [],
   "source": [
    "from sklearn.mixture import GaussianMixture"
   ]
  },
  {
   "cell_type": "markdown",
   "metadata": {},
   "source": [
    "### Part I: Train GMM with no dataset argumentation ###"
   ]
  },
  {
   "cell_type": "code",
   "execution_count": 10,
   "metadata": {},
   "outputs": [
    {
     "name": "stderr",
     "output_type": "stream",
     "text": [
      "/home/kent/.local/lib/python3.8/site-packages/torchvision/datasets/mnist.py:498: UserWarning: The given NumPy array is not writeable, and PyTorch does not support non-writeable tensors. This means you can write to the underlying (supposedly non-writeable) NumPy array using the tensor. You may want to copy the array to protect its data or make it writeable before converting it to a tensor. This type of warning will be suppressed for the rest of this program. (Triggered internally at  ../torch/csrc/utils/tensor_numpy.cpp:180.)\n",
      "  return torch.from_numpy(parsed.astype(m[2], copy=False)).view(*s)\n"
     ]
    }
   ],
   "source": [
    "mnist_testset = datasets.MNIST(root='./data', train=False, download=True, transform=torchvision.transforms.Compose([torchvision.transforms.ToTensor()]))\n",
    "mnist_trainset =  datasets.MNIST(root='./data', train=True, download=True, transform=torchvision.transforms.Compose([torchvision.transforms.ToTensor()]))\n",
    "raw_trainX = mnist_trainset.data.numpy()\n",
    "raw_trainY = mnist_trainset.targets.numpy()\n",
    "raw_testX = mnist_testset.data.numpy()\n",
    "raw_testY = mnist_testset.targets.numpy()  "
   ]
  },
  {
   "cell_type": "markdown",
   "metadata": {},
   "source": [
    "#### Model 1: We assume each class of digits in mnist shares some features follows Gaussian distribution, hence we feed in these classes and use trained GMMs for K classes to predict label of unseen images."
   ]
  },
  {
   "cell_type": "code",
   "execution_count": 11,
   "metadata": {},
   "outputs": [],
   "source": [
    "# use pca to reduce the dimesion of the dataset, original data size is 28 * 28\n",
    "pca = PCA(n_components=60)\n",
    "trainX = raw_trainX.reshape(raw_trainX.shape[0], -1)\n",
    "trainX = pca.fit_transform(trainX)\n",
    "testX = raw_testX.reshape(raw_testX.shape[0], -1)\n",
    "testX = pca.transform(testX)"
   ]
  },
  {
   "cell_type": "code",
   "execution_count": 12,
   "metadata": {},
   "outputs": [
    {
     "name": "stdout",
     "output_type": "stream",
     "text": [
      "(60000, 60)\n"
     ]
    }
   ],
   "source": [
    "print(trainX.shape)"
   ]
  },
  {
   "cell_type": "code",
   "execution_count": 25,
   "metadata": {},
   "outputs": [
    {
     "name": "stdout",
     "output_type": "stream",
     "text": [
      "[6, 4, 8, 2, 7, 9, 0, 5]\n"
     ]
    }
   ],
   "source": [
    "K=8             # K decides how many classes is feed in the model in stage 1 \n",
    "\n",
    "stage1_classes = random.sample(range(10), K)\n",
    "model = []\n",
    "\n",
    "print(stage1_classes)\n",
    "# stage 1 training\n",
    "for i in stage1_classes:\n",
    "    trainX_i = trainX[raw_trainY == i]\n",
    "    model.append(GaussianMixture(n_components=5).fit(trainX_i[:3000]))"
   ]
  },
  {
   "cell_type": "code",
   "execution_count": 30,
   "metadata": {},
   "outputs": [
    {
     "name": "stdout",
     "output_type": "stream",
     "text": [
      "8\n",
      "GaussianMixture(n_components=5)\n"
     ]
    }
   ],
   "source": [
    "print(len(model))\n",
    "print(model[1])"
   ]
  },
  {
   "cell_type": "code",
   "execution_count": 36,
   "metadata": {},
   "outputs": [],
   "source": [
    "def GMMs_predict(x, gmms, k, treshold):\n",
    "    predict = np.zeros((x.shape[0], k), dtype=float)\n",
    "\n",
    "    # use pretrained model to predict x\n",
    "    for i in range(k):\n",
    "        predict[i] = gmms[i].score(x)\n",
    "    \n",
    "    predict = sp.softmax(predict, axis=1)\n",
    "    max_class = np.amax(predict, axis=1)\n",
    "    return np.where(max_class > treshold, np.argmax(predict), -1)"
   ]
  },
  {
   "cell_type": "code",
   "execution_count": 37,
   "metadata": {},
   "outputs": [],
   "source": [
    "# stage 2 unsupervised training:\n",
    "predict = GMMs_predict(trainX, model, K, 0.5)\n",
    "\n",
    "# use data that cannot be classified to train the rest classes\n",
    "unclassified = trainX[predict == -1]\n",
    "\n",
    "        \n",
    "    \n",
    "\n",
    "\n",
    "    "
   ]
  }
 ],
 "metadata": {
  "interpreter": {
   "hash": "31f2aee4e71d21fbe5cf8b01ff0e069b9275f58929596ceb00d14d90e3e16cd6"
  },
  "kernelspec": {
   "display_name": "Python 3.8.10 64-bit",
   "language": "python",
   "name": "python3"
  },
  "language_info": {
   "codemirror_mode": {
    "name": "ipython",
    "version": 3
   },
   "file_extension": ".py",
   "mimetype": "text/x-python",
   "name": "python",
   "nbconvert_exporter": "python",
   "pygments_lexer": "ipython3",
   "version": "3.8.10"
  },
  "orig_nbformat": 4
 },
 "nbformat": 4,
 "nbformat_minor": 2
}
