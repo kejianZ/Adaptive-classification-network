{
  "cells": [
    {
      "cell_type": "code",
      "execution_count": 86,
      "id": "5017960b",
      "metadata": {
        "id": "5017960b"
      },
      "outputs": [],
      "source": [
        "import torch\n",
        "import torch.nn as nn\n",
        "import argparse\n",
        "import os\n",
        "from torchsummary import summary\n",
        "from torchvision import datasets, transforms\n",
        "from torch.utils.data import Dataset\n",
        "from tqdm import tqdm\n",
        "import torch.nn.functional as F\n",
        "from torch.nn import Linear, ReLU, Sequential, Conv2d, MaxPool2d, Module,Flatten,  BatchNorm2d\n",
        "from torch.optim.lr_scheduler import *\n",
        "import warnings\n",
        "import scipy.stats as stats\n",
        "from sklearn.mixture import GaussianMixture\n",
        "device = torch.device(\"cuda\" if torch.cuda.is_available() else \"cpu\")\n",
        "device\n",
        "from matplotlib import pyplot as plt\n",
        "import numpy as np\n",
        "import seaborn as sns"
      ]
    },
    {
      "cell_type": "code",
      "execution_count": 64,
      "id": "11f3b501",
      "metadata": {
        "id": "11f3b501"
      },
      "outputs": [],
      "source": [
        "NUM_CLASS = 10\n",
        "NUM_UNTARGET_CLASS = 3\n",
        "EPOCHS = 20\n",
        "REPLACE_LST = [7,8,9]"
      ]
    },
    {
      "cell_type": "code",
      "execution_count": 65,
      "id": "ca9341da",
      "metadata": {
        "id": "ca9341da"
      },
      "outputs": [],
      "source": [
        "class UnLabel_Dataset(Dataset):\n",
        "    def __init__(self, imgs, ground_truth, transform):\n",
        "        self.imgs = imgs\n",
        "        self.ground_truth = ground_truth\n",
        "        self.transform = transform\n",
        "    def __len__(self):\n",
        "        return len(self.ground_truth)\n",
        "\n",
        "    def __getitem__(self, idx):\n",
        "        img = self.imgs[idx]\n",
        "        tar = self.ground_truth[idx]\n",
        "        if self.transform:\n",
        "            img = self.transform(img)\n",
        "        #print(img.shape,tar.shape)\n",
        "        return img[None:], tar"
      ]
    },
    {
      "cell_type": "code",
      "execution_count": 66,
      "id": "558f2c09",
      "metadata": {
        "id": "558f2c09"
      },
      "outputs": [],
      "source": [
        "class get_img():\n",
        "    def __init__(self, classes=[]):\n",
        "        self.classes = classes\n",
        "    def __call__(self, dataset):\n",
        "        tensor_targets = torch.tensor(dataset.targets)\n",
        "        semasks = torch.any(torch.stack( [torch.eq(tensor_targets, aelem).logical_or_(torch.eq(tensor_targets, aelem)) for aelem in self.classes], dim=0), dim = 0)\n",
        "        imgs = dataset.data[semasks]\n",
        "        tars = torch.tensor(dataset.targets)[semasks.tolist()].tolist()\n",
        "        return imgs, tars"
      ]
    },
    {
      "cell_type": "code",
      "execution_count": 67,
      "id": "1f451ec0",
      "metadata": {
        "id": "1f451ec0",
        "outputId": "1023e48f-9cd8-4a9c-9432-af3fe44fd500",
        "colab": {
          "base_uri": "https://localhost:8080/"
        }
      },
      "outputs": [
        {
          "output_type": "stream",
          "name": "stdout",
          "text": [
            "Files already downloaded and verified\n"
          ]
        },
        {
          "output_type": "execute_result",
          "data": {
            "text/plain": [
              "(50000, 32, 32, 3)"
            ]
          },
          "metadata": {},
          "execution_count": 67
        }
      ],
      "source": [
        "normalize = transforms.Normalize(mean=[0.485, 0.456, 0.406],\n",
        "                                         std=[0.229, 0.224, 0.225])\n",
        "\n",
        "train_transforms = [transforms.RandomCrop(32, 4),\n",
        "                    transforms.ToTensor(),\n",
        "                    normalize,\n",
        "                   ]\n",
        "train_set = datasets.CIFAR10(root=\"./data\", train=True,\n",
        "                                     transform=transforms.Compose(train_transforms),\n",
        "                                     download=True)\n",
        "test_set = datasets.CIFAR10(root=\"./data\", train=False,\n",
        "                                    transform=transforms.Compose(\n",
        "                                        [transforms.ToTensor(), normalize]\n",
        "                                    ))\n",
        "train_set.data.shape"
      ]
    },
    {
      "cell_type": "code",
      "execution_count": 68,
      "id": "aead24f5",
      "metadata": {
        "id": "aead24f5"
      },
      "outputs": [],
      "source": [
        "train_loader = torch.utils.data.DataLoader(train_set, \n",
        "                                           batch_size=512,\n",
        "                                           shuffle=True,\n",
        "                                           num_workers=2, \n",
        "                                           drop_last=False)\n",
        "test_loader = torch.utils.data.DataLoader(test_set, \n",
        "                                           batch_size=1024,\n",
        "                                           shuffle=False,\n",
        "                                           num_workers=2, \n",
        "                                           drop_last=False)"
      ]
    },
    {
      "cell_type": "code",
      "execution_count": 69,
      "id": "756cc17d",
      "metadata": {
        "id": "756cc17d"
      },
      "outputs": [],
      "source": [
        "get_imgs = get_img(REPLACE_LST)\n",
        "unlabel_training_imgs, ground_truth_training = get_imgs(train_set)\n",
        "unlabel_training_dataset = UnLabel_Dataset(unlabel_training_imgs,\n",
        "                                           ground_truth_training,\n",
        "                                           transform=transforms.Compose([transforms.ToTensor(), normalize])\n",
        "                                          )\n",
        "unlabel_training_dataloader = torch.utils.data.DataLoader(unlabel_training_dataset,\n",
        "                                                          batch_size=512,\n",
        "                                                          shuffle=False,\n",
        "                                                          num_workers=2,\n",
        "                                                          drop_last=False)\n",
        "\n",
        "get_imgs = get_img(REPLACE_LST)\n",
        "unlabel_test_imgs, ground_truth_test = get_imgs(test_set)\n",
        "unlabel_test_dataset = UnLabel_Dataset(unlabel_test_imgs,\n",
        "                                       ground_truth_test,\n",
        "                                       transform=transforms.Compose([transforms.ToTensor(), normalize])\n",
        "                                      )\n",
        "unlabel_test_dataloader = torch.utils.data.DataLoader(unlabel_test_dataset,\n",
        "                                                          batch_size=512,\n",
        "                                                          shuffle=False,\n",
        "                                                          num_workers=2,\n",
        "                                                          drop_last=False)\n"
      ]
    },
    {
      "cell_type": "code",
      "execution_count": 70,
      "id": "ac6298d7",
      "metadata": {
        "id": "ac6298d7"
      },
      "outputs": [],
      "source": [
        "class replace_label():\n",
        "    def __init__(self, labels=[], tar_label=7):\n",
        "        super(replace_label, self).__init__()\n",
        "        if len(labels)!=NUM_UNTARGET_CLASS:\n",
        "            warnings.warn('Length of labels neq to NUM_UNTARGET_CLASS!')\n",
        "        self.labels = labels\n",
        "        self.tar_label = tar_label\n",
        "    def __call__(self, labels):\n",
        "        labels_cpy = torch.clone(labels)\n",
        "        semasks = torch.any(torch.stack( [torch.eq(labels, aelem).logical_or_(torch.eq(labels, aelem)) for aelem in self.labels], dim=0), dim = 0)\n",
        "        labels_cpy[semasks] = self.tar_label\n",
        "        return labels_cpy"
      ]
    },
    {
      "cell_type": "code",
      "execution_count": 89,
      "id": "a61878d2",
      "metadata": {
        "id": "a61878d2"
      },
      "outputs": [],
      "source": [
        "class CNN(Module):\n",
        "  def __init__(self, classes):\n",
        "      super().__init__()\n",
        "      self.network = Sequential(\n",
        "          Conv2d(3, 32, kernel_size=3, padding=1),\n",
        "          ReLU(),\n",
        "          Conv2d(32, 64, kernel_size=3, padding=1),\n",
        "          ReLU(),\n",
        "          MaxPool2d(2, 2), # output: 64 x 16 x 16\n",
        "\n",
        "          Conv2d(64, 128, kernel_size=3, padding=1),\n",
        "          ReLU(),\n",
        "          Conv2d(128, 128, kernel_size=3,padding=1),\n",
        "          ReLU(),\n",
        "          MaxPool2d(2, 2), # output: 128 x 8 x 8\n",
        "\n",
        "          Conv2d(128, 256, kernel_size=3,padding=1),\n",
        "          ReLU(),\n",
        "          Conv2d(256, 256, kernel_size=3,padding=1),\n",
        "          ReLU(),\n",
        "          MaxPool2d(2, 2), # output: 256 x 4 x 4\n",
        "\n",
        "          Flatten(), \n",
        "          Linear(1 * 4096, 1024),\n",
        "          ReLU(),\n",
        "          Linear(1024, 512),\n",
        "          ReLU())\n",
        "      self.lin = Linear(512, classes)\n",
        "  def feature(self, xb):\n",
        "      x = self.network(xb)\n",
        "      return x\n",
        "  def forward(self, xb):\n",
        "      x = self.feature(xb)\n",
        "      print(x.shape)\n",
        "      x = self.lin(x)\n",
        "      return x"
      ]
    },
    {
      "cell_type": "code",
      "execution_count": 72,
      "id": "79e7a7d6",
      "metadata": {
        "id": "79e7a7d6",
        "colab": {
          "base_uri": "https://localhost:8080/"
        },
        "outputId": "21e0118e-1e37-474f-9fd5-07b333392534"
      },
      "outputs": [
        {
          "output_type": "stream",
          "name": "stdout",
          "text": [
            "----------------------------------------------------------------\n",
            "        Layer (type)               Output Shape         Param #\n",
            "================================================================\n",
            "            Conv2d-1           [-1, 32, 32, 32]             896\n",
            "              ReLU-2           [-1, 32, 32, 32]               0\n",
            "            Conv2d-3           [-1, 64, 32, 32]          18,496\n",
            "              ReLU-4           [-1, 64, 32, 32]               0\n",
            "         MaxPool2d-5           [-1, 64, 16, 16]               0\n",
            "            Conv2d-6          [-1, 128, 16, 16]          73,856\n",
            "              ReLU-7          [-1, 128, 16, 16]               0\n",
            "            Conv2d-8          [-1, 128, 16, 16]         147,584\n",
            "              ReLU-9          [-1, 128, 16, 16]               0\n",
            "        MaxPool2d-10            [-1, 128, 8, 8]               0\n",
            "           Conv2d-11            [-1, 256, 8, 8]         295,168\n",
            "             ReLU-12            [-1, 256, 8, 8]               0\n",
            "           Conv2d-13            [-1, 256, 8, 8]         590,080\n",
            "             ReLU-14            [-1, 256, 8, 8]               0\n",
            "        MaxPool2d-15            [-1, 256, 4, 4]               0\n",
            "          Flatten-16                 [-1, 4096]               0\n",
            "           Linear-17                 [-1, 1024]       4,195,328\n",
            "             ReLU-18                 [-1, 1024]               0\n",
            "           Linear-19                  [-1, 512]         524,800\n",
            "             ReLU-20                  [-1, 512]               0\n",
            "           Linear-21                    [-1, 8]           4,104\n",
            "================================================================\n",
            "Total params: 5,850,312\n",
            "Trainable params: 5,850,312\n",
            "Non-trainable params: 0\n",
            "----------------------------------------------------------------\n",
            "Input size (MB): 0.01\n",
            "Forward/backward pass size (MB): 3.27\n",
            "Params size (MB): 22.32\n",
            "Estimated Total Size (MB): 25.60\n",
            "----------------------------------------------------------------\n"
          ]
        }
      ],
      "source": [
        "model = CNN(classes=NUM_CLASS-NUM_UNTARGET_CLASS+1).cuda()\n",
        "from torchsummary import summary\n",
        "summary(model, (3,32,32))"
      ]
    },
    {
      "cell_type": "code",
      "execution_count": 73,
      "id": "e3dac2d2",
      "metadata": {
        "id": "e3dac2d2"
      },
      "outputs": [],
      "source": [
        "optimizer = torch.optim.SGD(model.parameters(), lr=0.1,\n",
        "                                    momentum=0.9,\n",
        "                                    nesterov=False)\n",
        "scheduler = MultiStepLR(optimizer, milestones=[10,20], gamma=0.1)"
      ]
    },
    {
      "cell_type": "code",
      "execution_count": 74,
      "id": "cf9b75a2",
      "metadata": {
        "id": "cf9b75a2"
      },
      "outputs": [],
      "source": [
        "replace = replace_label(REPLACE_LST, NUM_CLASS-NUM_UNTARGET_CLASS)\n",
        "def train(model, train_loader, optimizer):\n",
        "    model = model.to(device)\n",
        "    model.train()\n",
        "    num_examples = 0\n",
        "    correct = 0\n",
        "    train_loss = 0\n",
        "    for data, target in tqdm(train_loader):\n",
        "        target = replace(target)\n",
        "        data, target = data.to(device), target.to(device)\n",
        "        #print(target.shape, target)\n",
        "        output = model(data)\n",
        "        #print(data.shape,output.shape, target.shape)\n",
        "        loss = F.cross_entropy(output, target)\n",
        "        loss.backward()\n",
        "        optimizer.step()\n",
        "        optimizer.zero_grad()\n",
        "        pred = output.max(1, keepdim=True)[1]\n",
        "        correct += pred.eq(target.view_as(pred)).sum().item()\n",
        "        train_loss += F.cross_entropy(output, target, reduction='sum').item()\n",
        "        num_examples += len(data)\n",
        "\n",
        "    train_loss /= num_examples\n",
        "    train_acc = 100. * correct / num_examples\n",
        "    print(f'Train set: Average loss: {train_loss:.4f}, '\n",
        "          f'Accuracy: {correct}/{num_examples} ({train_acc:.2f}%)')\n",
        "    return train_loss, train_acc"
      ]
    },
    {
      "cell_type": "code",
      "execution_count": 75,
      "id": "1863e44b",
      "metadata": {
        "id": "1863e44b"
      },
      "outputs": [],
      "source": [
        "def test(model, test_loader):\n",
        "    device = next(model.parameters()).device\n",
        "    \n",
        "    model.eval()\n",
        "    num_examples = 0\n",
        "    test_loss = 0\n",
        "    correct = 0\n",
        "\n",
        "    with torch.no_grad():\n",
        "        for data, target in tqdm(test_loader):\n",
        "            target = replace(target)\n",
        "            data, target = data.to(device), target.to(device)\n",
        "            output = model(data)\n",
        "            test_loss += F.cross_entropy(output, target, reduction='sum').item()\n",
        "            pred = output.max(1, keepdim=True)[1]\n",
        "            correct += pred.eq(target.view_as(pred)).sum().item()\n",
        "            num_examples += len(data)\n",
        "\n",
        "    test_loss /= num_examples\n",
        "    test_acc = 100. * correct / num_examples\n",
        "\n",
        "    print(f'Test set: Average loss: {test_loss:.4f}, '\n",
        "          f'Accuracy: {correct}/{num_examples} ({test_acc:.2f}%)')\n",
        "\n",
        "    return test_loss, test_acc"
      ]
    },
    {
      "cell_type": "code",
      "execution_count": 76,
      "id": "15998a39",
      "metadata": {
        "scrolled": false,
        "id": "15998a39",
        "outputId": "6031f002-b9ed-465d-b16e-3bfc96822cbe",
        "colab": {
          "base_uri": "https://localhost:8080/"
        }
      },
      "outputs": [
        {
          "output_type": "stream",
          "name": "stdout",
          "text": [
            "\n",
            "Epoch: 0\n"
          ]
        },
        {
          "output_type": "stream",
          "name": "stderr",
          "text": [
            "100%|██████████| 98/98 [00:46<00:00,  2.10it/s]\n"
          ]
        },
        {
          "output_type": "stream",
          "name": "stdout",
          "text": [
            "Train set: Average loss: 1.9190, Accuracy: 15221/50000 (30.44%)\n"
          ]
        },
        {
          "output_type": "stream",
          "name": "stderr",
          "text": [
            "100%|██████████| 10/10 [00:03<00:00,  2.73it/s]\n"
          ]
        },
        {
          "output_type": "stream",
          "name": "stdout",
          "text": [
            "Test set: Average loss: 1.7146, Accuracy: 3603/10000 (36.03%)\n",
            "\n",
            "Epoch: 1\n"
          ]
        },
        {
          "output_type": "stream",
          "name": "stderr",
          "text": [
            "100%|██████████| 98/98 [00:46<00:00,  2.11it/s]\n"
          ]
        },
        {
          "output_type": "stream",
          "name": "stdout",
          "text": [
            "Train set: Average loss: 1.6890, Accuracy: 18486/50000 (36.97%)\n"
          ]
        },
        {
          "output_type": "stream",
          "name": "stderr",
          "text": [
            "100%|██████████| 10/10 [00:03<00:00,  2.77it/s]\n"
          ]
        },
        {
          "output_type": "stream",
          "name": "stdout",
          "text": [
            "Test set: Average loss: 1.5097, Accuracy: 4164/10000 (41.64%)\n",
            "\n",
            "Epoch: 2\n"
          ]
        },
        {
          "output_type": "stream",
          "name": "stderr",
          "text": [
            "100%|██████████| 98/98 [00:46<00:00,  2.10it/s]\n"
          ]
        },
        {
          "output_type": "stream",
          "name": "stdout",
          "text": [
            "Train set: Average loss: 1.5391, Accuracy: 20694/50000 (41.39%)\n"
          ]
        },
        {
          "output_type": "stream",
          "name": "stderr",
          "text": [
            "100%|██████████| 10/10 [00:03<00:00,  2.78it/s]\n"
          ]
        },
        {
          "output_type": "stream",
          "name": "stdout",
          "text": [
            "Test set: Average loss: 1.4497, Accuracy: 4570/10000 (45.70%)\n",
            "\n",
            "Epoch: 3\n"
          ]
        },
        {
          "output_type": "stream",
          "name": "stderr",
          "text": [
            "100%|██████████| 98/98 [00:46<00:00,  2.10it/s]\n"
          ]
        },
        {
          "output_type": "stream",
          "name": "stdout",
          "text": [
            "Train set: Average loss: 1.3786, Accuracy: 23944/50000 (47.89%)\n"
          ]
        },
        {
          "output_type": "stream",
          "name": "stderr",
          "text": [
            "100%|██████████| 10/10 [00:03<00:00,  2.85it/s]\n"
          ]
        },
        {
          "output_type": "stream",
          "name": "stdout",
          "text": [
            "Test set: Average loss: 1.2786, Accuracy: 5172/10000 (51.72%)\n",
            "\n",
            "Epoch: 4\n"
          ]
        },
        {
          "output_type": "stream",
          "name": "stderr",
          "text": [
            "100%|██████████| 98/98 [00:46<00:00,  2.10it/s]\n"
          ]
        },
        {
          "output_type": "stream",
          "name": "stdout",
          "text": [
            "Train set: Average loss: 1.2556, Accuracy: 26348/50000 (52.70%)\n"
          ]
        },
        {
          "output_type": "stream",
          "name": "stderr",
          "text": [
            "100%|██████████| 10/10 [00:03<00:00,  2.78it/s]\n"
          ]
        },
        {
          "output_type": "stream",
          "name": "stdout",
          "text": [
            "Test set: Average loss: 1.0889, Accuracy: 5962/10000 (59.62%)\n",
            "\n",
            "Epoch: 5\n"
          ]
        },
        {
          "output_type": "stream",
          "name": "stderr",
          "text": [
            "100%|██████████| 98/98 [00:46<00:00,  2.10it/s]\n"
          ]
        },
        {
          "output_type": "stream",
          "name": "stdout",
          "text": [
            "Train set: Average loss: 1.1230, Accuracy: 29132/50000 (58.26%)\n"
          ]
        },
        {
          "output_type": "stream",
          "name": "stderr",
          "text": [
            "100%|██████████| 10/10 [00:03<00:00,  2.76it/s]\n"
          ]
        },
        {
          "output_type": "stream",
          "name": "stdout",
          "text": [
            "Test set: Average loss: 1.1516, Accuracy: 5668/10000 (56.68%)\n",
            "\n",
            "Epoch: 6\n"
          ]
        },
        {
          "output_type": "stream",
          "name": "stderr",
          "text": [
            "100%|██████████| 98/98 [00:46<00:00,  2.10it/s]\n"
          ]
        },
        {
          "output_type": "stream",
          "name": "stdout",
          "text": [
            "Train set: Average loss: 1.0040, Accuracy: 31471/50000 (62.94%)\n"
          ]
        },
        {
          "output_type": "stream",
          "name": "stderr",
          "text": [
            "100%|██████████| 10/10 [00:03<00:00,  2.82it/s]\n"
          ]
        },
        {
          "output_type": "stream",
          "name": "stdout",
          "text": [
            "Test set: Average loss: 0.8614, Accuracy: 6837/10000 (68.37%)\n",
            "\n",
            "Epoch: 7\n"
          ]
        },
        {
          "output_type": "stream",
          "name": "stderr",
          "text": [
            "100%|██████████| 98/98 [00:46<00:00,  2.10it/s]\n"
          ]
        },
        {
          "output_type": "stream",
          "name": "stdout",
          "text": [
            "Train set: Average loss: 0.8437, Accuracy: 34665/50000 (69.33%)\n"
          ]
        },
        {
          "output_type": "stream",
          "name": "stderr",
          "text": [
            "100%|██████████| 10/10 [00:03<00:00,  2.78it/s]\n"
          ]
        },
        {
          "output_type": "stream",
          "name": "stdout",
          "text": [
            "Test set: Average loss: 0.7492, Accuracy: 7307/10000 (73.07%)\n",
            "\n",
            "Epoch: 8\n"
          ]
        },
        {
          "output_type": "stream",
          "name": "stderr",
          "text": [
            "100%|██████████| 98/98 [00:46<00:00,  2.10it/s]\n"
          ]
        },
        {
          "output_type": "stream",
          "name": "stdout",
          "text": [
            "Train set: Average loss: 0.7214, Accuracy: 37052/50000 (74.10%)\n"
          ]
        },
        {
          "output_type": "stream",
          "name": "stderr",
          "text": [
            "100%|██████████| 10/10 [00:03<00:00,  2.84it/s]\n"
          ]
        },
        {
          "output_type": "stream",
          "name": "stdout",
          "text": [
            "Test set: Average loss: 0.7995, Accuracy: 7226/10000 (72.26%)\n",
            "\n",
            "Epoch: 9\n"
          ]
        },
        {
          "output_type": "stream",
          "name": "stderr",
          "text": [
            "100%|██████████| 98/98 [00:46<00:00,  2.10it/s]\n"
          ]
        },
        {
          "output_type": "stream",
          "name": "stdout",
          "text": [
            "Train set: Average loss: 0.6365, Accuracy: 38578/50000 (77.16%)\n"
          ]
        },
        {
          "output_type": "stream",
          "name": "stderr",
          "text": [
            "100%|██████████| 10/10 [00:03<00:00,  2.75it/s]\n"
          ]
        },
        {
          "output_type": "stream",
          "name": "stdout",
          "text": [
            "Test set: Average loss: 0.6398, Accuracy: 7798/10000 (77.98%)\n",
            "\n",
            "Epoch: 10\n"
          ]
        },
        {
          "output_type": "stream",
          "name": "stderr",
          "text": [
            "100%|██████████| 98/98 [00:46<00:00,  2.09it/s]\n"
          ]
        },
        {
          "output_type": "stream",
          "name": "stdout",
          "text": [
            "Train set: Average loss: 0.4656, Accuracy: 41792/50000 (83.58%)\n"
          ]
        },
        {
          "output_type": "stream",
          "name": "stderr",
          "text": [
            "100%|██████████| 10/10 [00:03<00:00,  2.81it/s]\n"
          ]
        },
        {
          "output_type": "stream",
          "name": "stdout",
          "text": [
            "Test set: Average loss: 0.5221, Accuracy: 8182/10000 (81.82%)\n",
            "\n",
            "Epoch: 11\n"
          ]
        },
        {
          "output_type": "stream",
          "name": "stderr",
          "text": [
            "100%|██████████| 98/98 [00:46<00:00,  2.11it/s]\n"
          ]
        },
        {
          "output_type": "stream",
          "name": "stdout",
          "text": [
            "Train set: Average loss: 0.4196, Accuracy: 42547/50000 (85.09%)\n"
          ]
        },
        {
          "output_type": "stream",
          "name": "stderr",
          "text": [
            "100%|██████████| 10/10 [00:03<00:00,  2.76it/s]\n"
          ]
        },
        {
          "output_type": "stream",
          "name": "stdout",
          "text": [
            "Test set: Average loss: 0.5150, Accuracy: 8241/10000 (82.41%)\n",
            "\n",
            "Epoch: 12\n"
          ]
        },
        {
          "output_type": "stream",
          "name": "stderr",
          "text": [
            "100%|██████████| 98/98 [00:46<00:00,  2.10it/s]\n"
          ]
        },
        {
          "output_type": "stream",
          "name": "stdout",
          "text": [
            "Train set: Average loss: 0.3940, Accuracy: 42958/50000 (85.92%)\n"
          ]
        },
        {
          "output_type": "stream",
          "name": "stderr",
          "text": [
            "100%|██████████| 10/10 [00:03<00:00,  2.84it/s]\n"
          ]
        },
        {
          "output_type": "stream",
          "name": "stdout",
          "text": [
            "Test set: Average loss: 0.5056, Accuracy: 8273/10000 (82.73%)\n",
            "\n",
            "Epoch: 13\n"
          ]
        },
        {
          "output_type": "stream",
          "name": "stderr",
          "text": [
            "100%|██████████| 98/98 [00:46<00:00,  2.09it/s]\n"
          ]
        },
        {
          "output_type": "stream",
          "name": "stdout",
          "text": [
            "Train set: Average loss: 0.3767, Accuracy: 43362/50000 (86.72%)\n"
          ]
        },
        {
          "output_type": "stream",
          "name": "stderr",
          "text": [
            "100%|██████████| 10/10 [00:03<00:00,  2.66it/s]\n"
          ]
        },
        {
          "output_type": "stream",
          "name": "stdout",
          "text": [
            "Test set: Average loss: 0.4989, Accuracy: 8324/10000 (83.24%)\n",
            "\n",
            "Epoch: 14\n"
          ]
        },
        {
          "output_type": "stream",
          "name": "stderr",
          "text": [
            "100%|██████████| 98/98 [00:46<00:00,  2.10it/s]\n"
          ]
        },
        {
          "output_type": "stream",
          "name": "stdout",
          "text": [
            "Train set: Average loss: 0.3616, Accuracy: 43609/50000 (87.22%)\n"
          ]
        },
        {
          "output_type": "stream",
          "name": "stderr",
          "text": [
            "100%|██████████| 10/10 [00:03<00:00,  2.75it/s]\n"
          ]
        },
        {
          "output_type": "stream",
          "name": "stdout",
          "text": [
            "Test set: Average loss: 0.4998, Accuracy: 8338/10000 (83.38%)\n",
            "\n",
            "Epoch: 15\n"
          ]
        },
        {
          "output_type": "stream",
          "name": "stderr",
          "text": [
            "100%|██████████| 98/98 [00:46<00:00,  2.10it/s]\n"
          ]
        },
        {
          "output_type": "stream",
          "name": "stdout",
          "text": [
            "Train set: Average loss: 0.3409, Accuracy: 43939/50000 (87.88%)\n"
          ]
        },
        {
          "output_type": "stream",
          "name": "stderr",
          "text": [
            "100%|██████████| 10/10 [00:03<00:00,  2.81it/s]\n"
          ]
        },
        {
          "output_type": "stream",
          "name": "stdout",
          "text": [
            "Test set: Average loss: 0.4911, Accuracy: 8362/10000 (83.62%)\n",
            "\n",
            "Epoch: 16\n"
          ]
        },
        {
          "output_type": "stream",
          "name": "stderr",
          "text": [
            "100%|██████████| 98/98 [00:46<00:00,  2.10it/s]\n"
          ]
        },
        {
          "output_type": "stream",
          "name": "stdout",
          "text": [
            "Train set: Average loss: 0.3290, Accuracy: 44199/50000 (88.40%)\n"
          ]
        },
        {
          "output_type": "stream",
          "name": "stderr",
          "text": [
            "100%|██████████| 10/10 [00:03<00:00,  2.84it/s]\n"
          ]
        },
        {
          "output_type": "stream",
          "name": "stdout",
          "text": [
            "Test set: Average loss: 0.4881, Accuracy: 8393/10000 (83.93%)\n",
            "\n",
            "Epoch: 17\n"
          ]
        },
        {
          "output_type": "stream",
          "name": "stderr",
          "text": [
            "100%|██████████| 98/98 [00:46<00:00,  2.09it/s]\n"
          ]
        },
        {
          "output_type": "stream",
          "name": "stdout",
          "text": [
            "Train set: Average loss: 0.3125, Accuracy: 44516/50000 (89.03%)\n"
          ]
        },
        {
          "output_type": "stream",
          "name": "stderr",
          "text": [
            "100%|██████████| 10/10 [00:03<00:00,  2.75it/s]\n"
          ]
        },
        {
          "output_type": "stream",
          "name": "stdout",
          "text": [
            "Test set: Average loss: 0.4842, Accuracy: 8391/10000 (83.91%)\n",
            "\n",
            "Epoch: 18\n"
          ]
        },
        {
          "output_type": "stream",
          "name": "stderr",
          "text": [
            "100%|██████████| 98/98 [00:46<00:00,  2.10it/s]\n"
          ]
        },
        {
          "output_type": "stream",
          "name": "stdout",
          "text": [
            "Train set: Average loss: 0.2956, Accuracy: 44803/50000 (89.61%)\n"
          ]
        },
        {
          "output_type": "stream",
          "name": "stderr",
          "text": [
            "100%|██████████| 10/10 [00:03<00:00,  2.78it/s]\n"
          ]
        },
        {
          "output_type": "stream",
          "name": "stdout",
          "text": [
            "Test set: Average loss: 0.4898, Accuracy: 8443/10000 (84.43%)\n",
            "\n",
            "Epoch: 19\n"
          ]
        },
        {
          "output_type": "stream",
          "name": "stderr",
          "text": [
            "100%|██████████| 98/98 [00:46<00:00,  2.10it/s]\n"
          ]
        },
        {
          "output_type": "stream",
          "name": "stdout",
          "text": [
            "Train set: Average loss: 0.2825, Accuracy: 45048/50000 (90.10%)\n"
          ]
        },
        {
          "output_type": "stream",
          "name": "stderr",
          "text": [
            "100%|██████████| 10/10 [00:03<00:00,  2.71it/s]"
          ]
        },
        {
          "output_type": "stream",
          "name": "stdout",
          "text": [
            "Test set: Average loss: 0.4999, Accuracy: 8415/10000 (84.15%)\n"
          ]
        },
        {
          "output_type": "stream",
          "name": "stderr",
          "text": [
            "\n"
          ]
        }
      ],
      "source": [
        "train_loss_lst=[]\n",
        "train_acc_lst=[]\n",
        "val_loss_lst=[]\n",
        "val_acc_lst=[]\n",
        "for epoch in range(0, EPOCHS):\n",
        "    print(f\"\\nEpoch: {epoch}\")\n",
        "    train_loss, train_acc = train(model, train_loader, optimizer)\n",
        "    test_loss, test_acc = test(model, test_loader)\n",
        "    train_loss_lst.append(train_loss)\n",
        "    train_acc_lst.append(train_acc)\n",
        "    val_loss_lst.append(test_loss)\n",
        "    val_acc_lst.append(test_acc)\n",
        "    scheduler.step()"
      ]
    },
    {
      "cell_type": "code",
      "execution_count": 77,
      "id": "0dc1828e",
      "metadata": {
        "id": "0dc1828e",
        "outputId": "b58f8b41-a505-4090-fe6a-6fdb448ff603",
        "colab": {
          "base_uri": "https://localhost:8080/",
          "height": 298
        }
      },
      "outputs": [
        {
          "output_type": "execute_result",
          "data": {
            "text/plain": [
              "<matplotlib.legend.Legend at 0x7f04a32bcb50>"
            ]
          },
          "metadata": {},
          "execution_count": 77
        },
        {
          "output_type": "display_data",
          "data": {
            "image/png": "[encoded data removed]",
            "text/plain": [
              "<Figure size 432x288 with 1 Axes>"
            ]
          },
          "metadata": {
            "needs_background": "light"
          }
        }
      ],
      "source": [
        "plt.plot(train_loss_lst, label='Training loss')\n",
        "plt.plot(val_loss_lst, label='Validation loss')\n",
        "plt.title('Loss')\n",
        "plt.legend()"
      ]
    },
    {
      "cell_type": "code",
      "execution_count": 78,
      "id": "82508760",
      "metadata": {
        "id": "82508760",
        "outputId": "8b31e1d1-62ef-4066-cc38-9f68820c6cf3",
        "colab": {
          "base_uri": "https://localhost:8080/",
          "height": 298
        }
      },
      "outputs": [
        {
          "output_type": "execute_result",
          "data": {
            "text/plain": [
              "<matplotlib.legend.Legend at 0x7f04a30afd10>"
            ]
          },
          "metadata": {},
          "execution_count": 78
        },
        {
          "output_type": "display_data",
          "data": {
            "image/png": "[encoded data removed]",
            "text/plain": [
              "<Figure size 432x288 with 1 Axes>"
            ]
          },
          "metadata": {
            "needs_background": "light"
          }
        }
      ],
      "source": [
        "plt.plot(train_acc_lst, label='Training accuracy')\n",
        "plt.plot(val_acc_lst, label='validation accuracy')\n",
        "plt.title('Accuracy')\n",
        "plt.legend()"
      ]
    },
    {
      "cell_type": "code",
      "execution_count": 96,
      "id": "a9a3f19b",
      "metadata": {
        "id": "a9a3f19b",
        "outputId": "f38ef85e-1e52-408e-9de8-e202cee0f8a4",
        "colab": {
          "base_uri": "https://localhost:8080/"
        }
      },
      "outputs": [
        {
          "output_type": "stream",
          "name": "stderr",
          "text": [
            "100%|██████████| 30/30 [00:04<00:00,  6.17it/s]"
          ]
        },
        {
          "output_type": "stream",
          "name": "stdout",
          "text": [
            "(15000, 512)\n",
            "(15000,)\n"
          ]
        },
        {
          "output_type": "stream",
          "name": "stderr",
          "text": [
            "\n"
          ]
        }
      ],
      "source": [
        "model.eval()\n",
        "unlabel_features_training = torch.empty((0,512))\n",
        "grand_truth_training = torch.empty((0))\n",
        "for data, target in tqdm(unlabel_training_dataloader):\n",
        "    data, target = data.to(device), target\n",
        "    feature = model.feature(data)\n",
        "    unlabel_features_training = torch.cat((unlabel_features_training,feature.detach().cpu()), 0)\n",
        "    grand_truth_training = torch.cat((grand_truth_training, target), 0)\n",
        "unlabel_features_training = unlabel_features_training.numpy()\n",
        "grand_truth_training = grand_truth_training.numpy()\n",
        "print(unlabel_features_training.shape)\n",
        "print(grand_truth_training.shape)"
      ]
    },
    {
      "cell_type": "code",
      "execution_count": 97,
      "id": "d0787549",
      "metadata": {
        "id": "d0787549",
        "outputId": "740bdefb-5d41-40ca-8673-b9c9c446601e",
        "colab": {
          "base_uri": "https://localhost:8080/"
        }
      },
      "outputs": [
        {
          "output_type": "stream",
          "name": "stderr",
          "text": [
            "100%|██████████| 6/6 [00:01<00:00,  5.08it/s]"
          ]
        },
        {
          "output_type": "stream",
          "name": "stdout",
          "text": [
            "(3000, 512)\n",
            "(3000,)\n"
          ]
        },
        {
          "output_type": "stream",
          "name": "stderr",
          "text": [
            "\n"
          ]
        }
      ],
      "source": [
        "model.eval()\n",
        "unlabel_features_test = torch.empty((0,512))\n",
        "grand_truth_test = torch.empty((0))\n",
        "for data, target in tqdm(unlabel_test_dataloader):\n",
        "    data, target = data.to(device), target\n",
        "    feature = model.feature(data)\n",
        "    unlabel_features_test = torch.cat((unlabel_features_test,feature.detach().cpu()), 0)\n",
        "    grand_truth_test = torch.cat((grand_truth_test, target), 0)\n",
        "unlabel_features_test = unlabel_features_test.numpy()\n",
        "grand_truth_test = grand_truth_test.numpy()\n",
        "print(unlabel_features_test.shape)\n",
        "print(grand_truth_test.shape)"
      ]
    },
    {
      "cell_type": "code",
      "execution_count": 98,
      "id": "ef4875cc",
      "metadata": {
        "id": "ef4875cc"
      },
      "outputs": [],
      "source": [
        "GMM = GaussianMixture(n_components=NUM_UNTARGET_CLASS).fit(unlabel_features_training)"
      ]
    },
    {
      "cell_type": "code",
      "execution_count": 99,
      "id": "93a9bc0b",
      "metadata": {
        "id": "93a9bc0b",
        "colab": {
          "base_uri": "https://localhost:8080/",
          "height": 282
        },
        "outputId": "6f889f9a-19b1-490e-fe30-35a414252ee4"
      },
      "outputs": [
        {
          "output_type": "execute_result",
          "data": {
            "text/plain": [
              "<matplotlib.axes._subplots.AxesSubplot at 0x7f048363ba90>"
            ]
          },
          "metadata": {},
          "execution_count": 99
        },
        {
          "output_type": "display_data",
          "data": {
            "image/png": "[encoded data removed]",
            "text/plain": [
              "<Figure size 432x288 with 2 Axes>"
            ]
          },
          "metadata": {
            "needs_background": "light"
          }
        }
      ],
      "source": [
        "p = GMM.predict(unlabel_features_test)\n",
        "match_map = np.zeros((len(REPLACE_LST),len(np.unique(p))))\n",
        "for grand_truth_idx, tar in enumerate(REPLACE_LST):\n",
        "    for pred_idx, p_tar in enumerate(np.unique(p)):\n",
        "        g_eq = grand_truth_test==tar\n",
        "        pred_= p==p_tar\n",
        "        match_map[grand_truth_idx, pred_idx] = np.sum(g_eq&pred_)/1000\n",
        "sns.heatmap(match_map)"
      ]
    },
    {
      "cell_type": "code",
      "source": [
        "match_map"
      ],
      "metadata": {
        "colab": {
          "base_uri": "https://localhost:8080/"
        },
        "id": "XQWpYO8uTesh",
        "outputId": "61616b92-5da5-452c-f740-3159b68b1bef"
      },
      "id": "XQWpYO8uTesh",
      "execution_count": 100,
      "outputs": [
        {
          "output_type": "execute_result",
          "data": {
            "text/plain": [
              "array([[0.492, 0.   , 0.508],\n",
              "       [0.344, 0.656, 0.   ],\n",
              "       [0.371, 0.629, 0.   ]])"
            ]
          },
          "metadata": {},
          "execution_count": 100
        }
      ]
    }
  ],
  "metadata": {
    "kernelspec": {
      "display_name": "Python 3",
      "language": "python",
      "name": "python3"
    },
    "language_info": {
      "codemirror_mode": {
        "name": "ipython",
        "version": 3
      },
      "file_extension": ".py",
      "mimetype": "text/x-python",
      "name": "python",
      "nbconvert_exporter": "python",
      "pygments_lexer": "ipython3",
      "version": "3.8.8"
    },
    "colab": {
      "name": "CNN.ipynb",
      "provenance": []
    },
    "accelerator": "GPU"
  },
  "nbformat": 4,
  "nbformat_minor": 5
}